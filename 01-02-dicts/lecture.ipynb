{
 "cells": [
  {
   "cell_type": "markdown",
   "metadata": {},
   "source": [
    "# Dicionários\n",
    "\n",
    "## 1. Dicionários em Python\n",
    "Uma coleção de dados, não indexada. Todo elemento tem uma **chave** e um **valor**.\n",
    "A **chave** é uma _string_ que é utilizada como se fosse o índice; enquanto o valor pode ser qualquer tipo de dado: `int`, `float`, `str`, `bool`, ou até mesmo uma lista, uma tupla, ou outro dicionário."
   ]
  },
  {
   "cell_type": "code",
   "execution_count": null,
   "metadata": {},
   "outputs": [],
   "source": []
  }
 ],
 "metadata": {
  "language_info": {
   "name": "python"
  }
 },
 "nbformat": 4,
 "nbformat_minor": 2
}
