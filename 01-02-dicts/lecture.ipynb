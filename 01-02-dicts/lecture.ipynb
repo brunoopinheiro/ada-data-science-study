{
 "cells": [
  {
   "cell_type": "markdown",
   "metadata": {},
   "source": [
    "# Dicionários\n",
    "\n",
    "## 1. Dicionários em Python\n",
    "Uma coleção de dados, não indexada. Todo elemento tem uma **chave** e um **valor**.\n",
    "A **chave** é uma _string_ que é utilizada como se fosse o índice; enquanto o valor pode ser qualquer tipo de dado: `int`, `float`, `str`, `bool`, ou até mesmo uma lista, uma tupla, ou outro dicionário.\n",
    "\n",
    "### 1.1 Criando um Dicionário\n",
    "Separa-se chave e valor utiizando dois pontos (`:`), e um par de outro usando vírgula. O símbolo de chave ({}) representa o dicionário."
   ]
  },
  {
   "cell_type": "code",
   "execution_count": 2,
   "metadata": {},
   "outputs": [
    {
     "name": "stdout",
     "output_type": "stream",
     "text": [
      "{'nome': 'Mário', 'notas': [7, 9, 5, 6], 'presencas': 0.8}\n",
      "Aluno:  Mário\n",
      "Notas:  [7, 9, 5, 6]\n",
      "{'Ana': 7, 'Brenda': 10, 'Carlos': 8}\n"
     ]
    }
   ],
   "source": [
    "aluno = { 'nome': 'Mário', 'notas': [7, 9, 5, 6], 'presencas': 0.8 }\n",
    "\n",
    "print(aluno)\n",
    "print('Aluno: ', aluno['nome'])\n",
    "print('Notas: ', aluno['notas'])\n",
    "\n",
    "notas = dict(Ana = 7, Brenda = 10, Carlos = 8)\n",
    "print(notas)"
   ]
  },
  {
   "cell_type": "markdown",
   "metadata": {},
   "source": [
    "Também é possível criar um dicionário à partir de uma lista ou tupla que contenha, internamente, outras coleções com exatamente 2 elementos. Nesse caso, o primeiro elemento será a chave, e o segundo será o valor."
   ]
  },
  {
   "cell_type": "code",
   "execution_count": 3,
   "metadata": {},
   "outputs": [
    {
     "name": "stdout",
     "output_type": "stream",
     "text": [
      "{'Ana': 7, 'Brenda': 10, 'Carlos': 8}\n"
     ]
    }
   ],
   "source": [
    "lista = [['Ana', 7], ['Brenda', 10], ['Carlos', 8]]\n",
    "dicionario = dict(lista)\n",
    "\n",
    "print(dicionario)"
   ]
  },
  {
   "cell_type": "code",
   "execution_count": 5,
   "metadata": {},
   "outputs": [
    {
     "name": "stdout",
     "output_type": "stream",
     "text": [
      "{'Ana': 7, 'Brenda': 10, 'Carlos': 8}\n"
     ]
    }
   ],
   "source": [
    "# Juntando com o método zip\n",
    "\n",
    "nomes = ['Ana', 'Brenda', 'Carlos']\n",
    "notas = [7, 10, 8]\n",
    "\n",
    "dicionario_zip = dict(zip(nomes, notas))\n",
    "print(dicionario_zip)"
   ]
  },
  {
   "cell_type": "markdown",
   "metadata": {},
   "source": [
    "### 1.2 Adicionando elementos em um dicionário\n",
    "\n",
    "Para adicionar elementos ao dicionário, basta acessar a nova chave e atribuir um valor."
   ]
  },
  {
   "cell_type": "code",
   "execution_count": 7,
   "metadata": {},
   "outputs": [
    {
     "name": "stdout",
     "output_type": "stream",
     "text": [
      "{'nome': 'Mário', 'notas': [7, 9, 5, 6], 'presencas': 0.8, 'media': 6.75, 'aprovado': True}\n"
     ]
    }
   ],
   "source": [
    "aluno['media'] = sum(aluno['notas'])/len(aluno['notas'])\n",
    "\n",
    "aluno['aprovado'] = aluno['media'] >= 6.0 and aluno['presencas'] >= 0.7\n",
    "\n",
    "print(aluno)"
   ]
  },
  {
   "cell_type": "markdown",
   "metadata": {},
   "source": [
    "### 1.3 Percorrendo um dicionário\n",
    "\n",
    "Dicionários podem ser percorridos com um _for_. Percorre-se as chaves, não os valores."
   ]
  },
  {
   "cell_type": "code",
   "execution_count": 8,
   "metadata": {},
   "outputs": [
    {
     "name": "stdout",
     "output_type": "stream",
     "text": [
      "nome ---> Mário\n",
      "notas ---> [7, 9, 5, 6]\n",
      "presencas ---> 0.8\n",
      "media ---> 6.75\n",
      "aprovado ---> True\n"
     ]
    }
   ],
   "source": [
    "for chave in aluno:\n",
    "    print(chave, '--->', aluno[chave])"
   ]
  },
  {
   "cell_type": "markdown",
   "metadata": {},
   "source": [
    "### 1.4 Testando a existência de uma chave\n",
    "Antes de criar uma nova chave, é possível testar se ela já existe. Utiliza-se o operador _in_."
   ]
  },
  {
   "cell_type": "code",
   "execution_count": 9,
   "metadata": {},
   "outputs": [
    {
     "name": "stdout",
     "output_type": "stream",
     "text": [
      "{'escola': 'Ada', 'unidade': 'Faria Lima', 'cursos': ['Python', 'Data Science']}\n"
     ]
    }
   ],
   "source": [
    "dicionario = { 'escola':\"Ada\", 'unidade': \"Faria Lima\" }\n",
    "\n",
    "# Neste caso, 'cursos' ainda não existe.\n",
    "# Cairemos no caso else e será criada uma lista com a string \"Python\".\n",
    "\n",
    "if 'cursos' in dicionario:\n",
    "    dicionario['cursos'].append('Python')\n",
    "else:\n",
    "    dicionario['cursos'] = ['Python']\n",
    "\n",
    "\n",
    "# Agora a chave já existe\n",
    "# Portanto, será adicionado \"Data Science\" à lista.\n",
    "if 'cursos' in dicionario:\n",
    "    dicionario['cursos'].append('Data Science')\n",
    "else:\n",
    "    dicionario['cursos'] = ['Data Science']\n",
    "\n",
    "\n",
    "print(dicionario)"
   ]
  },
  {
   "cell_type": "markdown",
   "metadata": {},
   "source": [
    "## 2. Métodos de Dicionários\n",
    "[Lista de Métodos](https://www.w3schools.com/python/python_ref_dictionary.asp)\n",
    "\n",
    "### 2.1 Acessando Valores de Maneira Segura\n",
    "#### 2.1.1 get\n",
    "Caso a chave não exista, retorna `None`."
   ]
  },
  {
   "cell_type": "code",
   "execution_count": 13,
   "metadata": {},
   "outputs": [
    {
     "name": "stdout",
     "output_type": "stream",
     "text": [
      "None\n",
      "0\n"
     ]
    }
   ],
   "source": [
    "nomes = ['Ana', 'Brenda', 'Carlos']\n",
    "notas = [7, 10, 8]\n",
    "\n",
    "dicionario_notas = dict(zip(nomes, notas))\n",
    "\n",
    "nota_daniel = dicionario_notas.get('Daniel')\n",
    "nota_eliza = dicionario_notas.get('Eliza', 0) # passando valor padrão\n",
    "print(nota_daniel)\n",
    "print(nota_eliza)"
   ]
  },
  {
   "cell_type": "markdown",
   "metadata": {},
   "source": [
    "#### 2.1.2 setdefault\n",
    "Argumentos: chave, valor\n",
    "Caso a chave for encontrada, o valor é retornado. Caso contrário, chave é inserida e valor é passado."
   ]
  },
  {
   "cell_type": "code",
   "execution_count": 15,
   "metadata": {},
   "outputs": [
    {
     "name": "stdout",
     "output_type": "stream",
     "text": [
      "['Python']\n",
      "['Python', 'Data Science']\n",
      "{'escola': 'Ada', 'unidade': 'Faria Lima', 'cursos': ['Python', 'Data Science']}\n"
     ]
    }
   ],
   "source": [
    "dicionario = {'escola': \"Ada\", 'unidade': \"Faria Lima\"}\n",
    "cursos = dicionario.setdefault('cursos', ['Python'])\n",
    "print(cursos)\n",
    "\n",
    "cursos.append('Data Science')\n",
    "print(dicionario['cursos'])\n",
    "print(dicionario)"
   ]
  },
  {
   "cell_type": "markdown",
   "metadata": {},
   "source": [
    "### 2.2 Copiando Dicionários\n",
    "\n",
    "#### 2.2.1 Criando um novo Dicionário\n",
    "Assim como na lista, atribuição direta apenas adiciona uma nova referência ao mesmo dicionário na memória. A cópia deve ser feito usando o método `copy`."
   ]
  },
  {
   "cell_type": "code",
   "execution_count": 16,
   "metadata": {},
   "outputs": [
    {
     "name": "stdout",
     "output_type": "stream",
     "text": [
      "{'Ana': 7, 'Brenda': 10, 'Carlos': 8}\n",
      "{'Ana': 0, 'Brenda': 10, 'Carlos': 8}\n"
     ]
    }
   ],
   "source": [
    "copia_dicionario_notas = dicionario_notas.copy()\n",
    "\n",
    "copia_dicionario_notas['Ana'] = 0\n",
    "\n",
    "print(dicionario_notas)\n",
    "print(copia_dicionario_notas)"
   ]
  },
  {
   "cell_type": "markdown",
   "metadata": {},
   "source": [
    "No entanto, é possível atualizar as cópias, através do método `update`."
   ]
  },
  {
   "cell_type": "code",
   "execution_count": 17,
   "metadata": {},
   "outputs": [
    {
     "name": "stdout",
     "output_type": "stream",
     "text": [
      "{'escola': 'Ada', 'unidade': 'Faria Lima', 'cursos': ['Python', 'Data Science'], 'trilhas': ['Data Science', 'Web Full Stack'], 'formato': 'online'}\n"
     ]
    }
   ],
   "source": [
    "mais_escola = {'trilhas': ['Data Science', 'Web Full Stack'], 'formato': \"online\"}\n",
    "\n",
    "dicionario.update(mais_escola)\n",
    "\n",
    "print(dicionario)"
   ]
  },
  {
   "cell_type": "markdown",
   "metadata": {},
   "source": [
    "### 2.3 Removendo Elementos de um Dicionário\n",
    "É possível remover através do método `pop`, passando a chave a ser removida."
   ]
  },
  {
   "cell_type": "code",
   "execution_count": 18,
   "metadata": {},
   "outputs": [
    {
     "name": "stdout",
     "output_type": "stream",
     "text": [
      "{'nome': 'Mario', 'notas': [7, 9, 5, 6], 'presencas': 0.8}\n",
      "{'nome': 'Mario', 'notas': [7, 9, 5, 6]}\n"
     ]
    }
   ],
   "source": [
    "aluno = {'nome': \"Mario\", 'notas': [7, 9, 5, 6], 'presencas': 0.8}\n",
    "print(aluno)\n",
    "aluno.pop('presencas')\n",
    "print(aluno)"
   ]
  },
  {
   "cell_type": "markdown",
   "metadata": {},
   "source": [
    "### 2.4 Separando chaves e valores\n",
    "O Python possui funções para obter, separadamente, todas as chaves (`keys`) ou todos os valores (`values`) de um dicionário."
   ]
  },
  {
   "cell_type": "code",
   "execution_count": 19,
   "metadata": {},
   "outputs": [
    {
     "name": "stdout",
     "output_type": "stream",
     "text": [
      "Chaves:  ['nome', 'notas', 'presencas']\n",
      "Valores:  ['Mario', [7, 9, 5, 6], 0.8]\n"
     ]
    }
   ],
   "source": [
    "aluno = {'nome': \"Mario\", 'notas': [7, 9, 5, 6], 'presencas': 0.8}\n",
    "\n",
    "chaves = list(aluno.keys())\n",
    "valores = list(aluno.values())\n",
    "\n",
    "print('Chaves: ', chaves)\n",
    "print('Valores: ', valores)"
   ]
  },
  {
   "cell_type": "code",
   "execution_count": 20,
   "metadata": {},
   "outputs": [
    {
     "name": "stdout",
     "output_type": "stream",
     "text": [
      "nome: Mario\n",
      "notas: [7, 9, 5, 6]\n",
      "presencas: 0.8\n"
     ]
    }
   ],
   "source": [
    "# Combinando como zip\n",
    "\n",
    "for chave, valor in zip(aluno.keys(), aluno.values()):\n",
    "    print(f\"{chave}: {valor}\")"
   ]
  },
  {
   "cell_type": "code",
   "execution_count": 21,
   "metadata": {},
   "outputs": [
    {
     "name": "stdout",
     "output_type": "stream",
     "text": [
      "dict_items([('nome', 'Mario'), ('notas', [7, 9, 5, 6]), ('presencas', 0.8)])\n"
     ]
    }
   ],
   "source": [
    "# Ou com o método \"items\"\n",
    "\n",
    "print(aluno.items())"
   ]
  },
  {
   "cell_type": "code",
   "execution_count": 22,
   "metadata": {},
   "outputs": [
    {
     "name": "stdout",
     "output_type": "stream",
     "text": [
      "nome: Mario\n",
      "notas: [7, 9, 5, 6]\n",
      "presencas: 0.8\n"
     ]
    }
   ],
   "source": [
    "# Combinando esses conceitos\n",
    "\n",
    "for chave, valor in aluno.items():\n",
    "    print(f\"{chave}: {valor}\")"
   ]
  },
  {
   "cell_type": "markdown",
   "metadata": {},
   "source": [
    "Após o capítulo sobre tuplas, onde foram abordadas questões de desempenho, você pode estar se perguntando quão eficiente ou ineficiente é um dicionário. Surpreendentemente, ele é uma estrutura bastante rápida para consulta. Isso se deve à forma como ele é implementado.\n",
    "\n",
    "O motivo para um de seus nomes ser tabela hash é que ele utiliza o conceito de hash. De maneira simplificada, hash é um valor numérico obtido a partir de um dado quando realizamos uma sequência de operações sobre esse dado. Essas operações devem ser tais que se o dado mudar, o valor numérico também deve mudar. Quando dois dados diferentes podem gerar o mesmo número, chamamos isso de colisão de hash, e isso é bastante indesejável.\n",
    "\n",
    "Quando o dicionário é criado, uma faixa tamanho razoável de memória é alocada para ele. Quando passamos uma chave, o computador calcula o hash dessa chave e utiliza o hash como índice para acessar o dado na memória! . Inclusive, quando citamos acima que uma chave deve ser uma string, isso foi uma simplificação. Qualquer tipo de dado imutável (como uma tupla ou uma constante numérica) pode servir como chave. Objetos personalizados também podem, desde que eles sejam hashable. . Você pode consultar um tutorial mais básico sobre dicionários aqui, focado em diferentes funções úteis. Já aqui temos um tutorial mais avançado, que ensina você a criar uma estrutura semelhante a um dicionário do zero, explicando os conceitos envolvidos em cada passo."
   ]
  }
 ],
 "metadata": {
  "kernelspec": {
   "display_name": "Python 3",
   "language": "python",
   "name": "python3"
  },
  "language_info": {
   "codemirror_mode": {
    "name": "ipython",
    "version": 3
   },
   "file_extension": ".py",
   "mimetype": "text/x-python",
   "name": "python",
   "nbconvert_exporter": "python",
   "pygments_lexer": "ipython3",
   "version": "3.12.0"
  }
 },
 "nbformat": 4,
 "nbformat_minor": 2
}
