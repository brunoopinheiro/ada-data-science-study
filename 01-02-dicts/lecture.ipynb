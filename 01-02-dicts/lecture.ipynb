{
 "cells": [
  {
   "cell_type": "markdown",
   "metadata": {},
   "source": [
    "# Dicionários\n",
    "\n",
    "## 1. Dicionários em Python\n",
    "Uma coleção de dados, não indexada. Todo elemento tem uma **chave** e um **valor**.\n",
    "A **chave** é uma _string_ que é utilizada como se fosse o índice; enquanto o valor pode ser qualquer tipo de dado: `int`, `float`, `str`, `bool`, ou até mesmo uma lista, uma tupla, ou outro dicionário.\n",
    "\n",
    "### 1.1 Criando um Dicionário\n",
    "Separa-se chave e valor utiizando dois pontos (`:`), e um par de outro usando vírgula. O símbolo de chave ({}) representa o dicionário."
   ]
  },
  {
   "cell_type": "code",
   "execution_count": 2,
   "metadata": {},
   "outputs": [
    {
     "name": "stdout",
     "output_type": "stream",
     "text": [
      "{'nome': 'Mário', 'notas': [7, 9, 5, 6], 'presencas': 0.8}\n",
      "Aluno:  Mário\n",
      "Notas:  [7, 9, 5, 6]\n",
      "{'Ana': 7, 'Brenda': 10, 'Carlos': 8}\n"
     ]
    }
   ],
   "source": [
    "aluno = { 'nome': 'Mário', 'notas': [7, 9, 5, 6], 'presencas': 0.8 }\n",
    "\n",
    "print(aluno)\n",
    "print('Aluno: ', aluno['nome'])\n",
    "print('Notas: ', aluno['notas'])\n",
    "\n",
    "notas = dict(Ana = 7, Brenda = 10, Carlos = 8)\n",
    "print(notas)"
   ]
  },
  {
   "cell_type": "markdown",
   "metadata": {},
   "source": [
    "Também é possível criar um dicionário à partir de uma lista ou tupla que contenha, internamente, outras coleções com exatamente 2 elementos. Nesse caso, o primeiro elemento será a chave, e o segundo será o valor."
   ]
  },
  {
   "cell_type": "code",
   "execution_count": 3,
   "metadata": {},
   "outputs": [
    {
     "name": "stdout",
     "output_type": "stream",
     "text": [
      "{'Ana': 7, 'Brenda': 10, 'Carlos': 8}\n"
     ]
    }
   ],
   "source": [
    "lista = [['Ana', 7], ['Brenda', 10], ['Carlos', 8]]\n",
    "dicionario = dict(lista)\n",
    "\n",
    "print(dicionario)"
   ]
  },
  {
   "cell_type": "code",
   "execution_count": 5,
   "metadata": {},
   "outputs": [
    {
     "name": "stdout",
     "output_type": "stream",
     "text": [
      "{'Ana': 7, 'Brenda': 10, 'Carlos': 8}\n"
     ]
    }
   ],
   "source": [
    "# Juntando com o método zip\n",
    "\n",
    "nomes = ['Ana', 'Brenda', 'Carlos']\n",
    "notas = [7, 10, 8]\n",
    "\n",
    "dicionario_zip = dict(zip(nomes, notas))\n",
    "print(dicionario_zip)"
   ]
  },
  {
   "cell_type": "markdown",
   "metadata": {},
   "source": [
    "### 1.2 Adicionando elementos em um dicionário\n",
    "\n",
    "Para adicionar elementos ao dicionário, basta acessar a nova chave e atribuir um valor."
   ]
  },
  {
   "cell_type": "code",
   "execution_count": 7,
   "metadata": {},
   "outputs": [
    {
     "name": "stdout",
     "output_type": "stream",
     "text": [
      "{'nome': 'Mário', 'notas': [7, 9, 5, 6], 'presencas': 0.8, 'media': 6.75, 'aprovado': True}\n"
     ]
    }
   ],
   "source": [
    "aluno['media'] = sum(aluno['notas'])/len(aluno['notas'])\n",
    "\n",
    "aluno['aprovado'] = aluno['media'] >= 6.0 and aluno['presencas'] >= 0.7\n",
    "\n",
    "print(aluno)"
   ]
  },
  {
   "cell_type": "markdown",
   "metadata": {},
   "source": [
    "### 1.3 Percorrendo um dicionário\n",
    "\n",
    "Dicionários podem ser percorridos com um _for_. Percorre-se as chaves, não os valores."
   ]
  },
  {
   "cell_type": "code",
   "execution_count": 8,
   "metadata": {},
   "outputs": [
    {
     "name": "stdout",
     "output_type": "stream",
     "text": [
      "nome ---> Mário\n",
      "notas ---> [7, 9, 5, 6]\n",
      "presencas ---> 0.8\n",
      "media ---> 6.75\n",
      "aprovado ---> True\n"
     ]
    }
   ],
   "source": [
    "for chave in aluno:\n",
    "    print(chave, '--->', aluno[chave])"
   ]
  },
  {
   "cell_type": "markdown",
   "metadata": {},
   "source": [
    "### 1.4 Testando a existência de uma chave\n",
    "Antes de criar uma nova chave, é possível testar se ela já existe. Utiliza-se o operador _in_."
   ]
  },
  {
   "cell_type": "code",
   "execution_count": 9,
   "metadata": {},
   "outputs": [
    {
     "name": "stdout",
     "output_type": "stream",
     "text": [
      "{'escola': 'Ada', 'unidade': 'Faria Lima', 'cursos': ['Python', 'Data Science']}\n"
     ]
    }
   ],
   "source": [
    "dicionario = { 'escola':\"Ada\", 'unidade': \"Faria Lima\" }\n",
    "\n",
    "# Neste caso, 'cursos' ainda não existe.\n",
    "# Cairemos no caso else e será criada uma lista com a string \"Python\".\n",
    "\n",
    "if 'cursos' in dicionario:\n",
    "    dicionario['cursos'].append('Python')\n",
    "else:\n",
    "    dicionario['cursos'] = ['Python']\n",
    "\n",
    "\n",
    "# Agora a chave já existe\n",
    "# Portanto, será adicionado \"Data Science\" à lista.\n",
    "if 'cursos' in dicionario:\n",
    "    dicionario['cursos'].append('Data Science')\n",
    "else:\n",
    "    dicionario['cursos'] = ['Data Science']\n",
    "\n",
    "\n",
    "print(dicionario)"
   ]
  }
 ],
 "metadata": {
  "kernelspec": {
   "display_name": "Python 3",
   "language": "python",
   "name": "python3"
  },
  "language_info": {
   "codemirror_mode": {
    "name": "ipython",
    "version": 3
   },
   "file_extension": ".py",
   "mimetype": "text/x-python",
   "name": "python",
   "nbconvert_exporter": "python",
   "pygments_lexer": "ipython3",
   "version": "3.12.0"
  }
 },
 "nbformat": 4,
 "nbformat_minor": 2
}
