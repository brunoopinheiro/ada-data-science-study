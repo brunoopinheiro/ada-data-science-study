{
 "cells": [
  {
   "cell_type": "markdown",
   "metadata": {},
   "source": [
    "# Compreensão de Listas e Expressões Geradoras\n",
    "\n",
    "Um dos objetivos da linguagem Python é realizaro máximo possível de trabalho com a menor quantidade possível de código. Resultando emum código mais limpo e com menos efeitos colaterais."
   ]
  },
  {
   "cell_type": "markdown",
   "metadata": {},
   "source": [
    "## 1. Compreensão de Listas\n",
    "\n",
    "### 1.1. Compreensão de listas contendo apenas um loop\n",
    "\n",
    "Considerando um problema simples: montar uma lista com os quadrados dos números de 1 a 10. Uma possível solução seria:"
   ]
  },
  {
   "cell_type": "code",
   "execution_count": 2,
   "metadata": {},
   "outputs": [
    {
     "name": "stdout",
     "output_type": "stream",
     "text": [
      "[1, 4, 9, 16, 25, 36, 49, 64, 81, 100]\n",
      "10\n"
     ]
    }
   ],
   "source": [
    "quadrados = []\n",
    "\n",
    "\n",
    "for x in range(1, 11):\n",
    "    quadrados.append(x ** 2)\n",
    "\n",
    "\n",
    "print(quadrados)\n",
    "print(x) # para demonstrar que a variável ainda existe em memória "
   ]
  },
  {
   "cell_type": "code",
   "execution_count": 3,
   "metadata": {},
   "outputs": [
    {
     "name": "stdout",
     "output_type": "stream",
     "text": [
      "[1, 4, 9, 16, 25, 36, 49, 64, 81, 100]\n"
     ]
    }
   ],
   "source": [
    "# Usando list comprehension\n",
    "quadrados_comprehension = [num**2 for num in range(1, 11)]\n",
    "\n",
    "print(quadrados_comprehension)"
   ]
  },
  {
   "cell_type": "code",
   "execution_count": 4,
   "metadata": {},
   "outputs": [
    {
     "name": "stdout",
     "output_type": "stream",
     "text": [
      "[0.5, 4.5, 2.0, 3.5, 3.0, 1.0]\n"
     ]
    }
   ],
   "source": [
    "# Outro exemplo: lista contendo a metade do valor de cada elemento de outra lista\n",
    "\n",
    "numeros = [1, 9, 4, 7, 6, 2]\n",
    "\n",
    "metades = [n/2 for n in numeros]\n",
    "\n",
    "print(metades)"
   ]
  },
  {
   "cell_type": "markdown",
   "metadata": {},
   "source": [
    "### 1.2. Condicionais em compreensões\n",
    "\n",
    "Pode-se adicionar condicionais, como o `if` à expressão. Por exemplo, se só fossem aceitos números pares no exemplo anterior:"
   ]
  },
  {
   "cell_type": "code",
   "execution_count": 5,
   "metadata": {},
   "outputs": [
    {
     "name": "stdout",
     "output_type": "stream",
     "text": [
      "[2.0, 3.0, 1.0]\n"
     ]
    }
   ],
   "source": [
    "metades_pares = [n/2 for n in numeros if n % 2 == 0]\n",
    "print(metades_pares)"
   ]
  },
  {
   "cell_type": "markdown",
   "metadata": {},
   "source": [
    "Também é possível usar `else` na expressão.\n",
    "\n",
    "Considere que são aceitos números quebrados no exemplo das metades.Porém, não queremos utilizar o tipo `float` desnecessariamente. Portanto, faremos uma divisão **inteira** quando o número for par (para que o resultado seja `int`) e uma divisão **real** quando o número for ímpar (para que o resultado seja `float`). A expressão ficaria assim:"
   ]
  },
  {
   "cell_type": "code",
   "execution_count": 6,
   "metadata": {},
   "outputs": [
    {
     "name": "stdout",
     "output_type": "stream",
     "text": [
      "[0.5, 4.5, 2, 3.5, 3, 1]\n"
     ]
    }
   ],
   "source": [
    "metades_tipo = [n//2 if n % 2 == 0 else n/2 for n in numeros]\n",
    "\n",
    "print(metades_tipo)"
   ]
  },
  {
   "cell_type": "markdown",
   "metadata": {},
   "source": [
    "Note que com o uso do `else`, há uma mudança na ordem da declaração da compreensão. Quando usamos apenas o `if`, ele vem após o `for`. Com o `else`, ambos vem antes.\n",
    "\n",
    "Generalizando, a sintaxe das _list comprehensions_, tem as seguintes combinações:\n",
    "\n",
    "<code>\n",
    "  lista = [expressao for item in colecao]\n",
    "\n",
    "  for item in colecao:\n",
    "    lista.append(expressao)\n",
    "\n",
    "\n",
    "  <hr />\n",
    "  <br />\n",
    "  lista = [expressao for item in colecao if condicao]\n",
    "\n",
    "  for item in colecao:\n",
    "    if condicao:\n",
    "      lista.append(expressao)\n",
    "\n",
    "\n",
    "  <hr />\n",
    "  <br />\n",
    "  lista = [expressao if condicao else expressao2 for item in colecao]\n",
    "  \n",
    "  for item in colecao:\n",
    "    if condicao:\n",
    "      lista.append(expressao)\n",
    "    else:\n",
    "      lista.append(expressao2)\n",
    "</code>"
   ]
  }
 ],
 "metadata": {
  "kernelspec": {
   "display_name": "Python 3",
   "language": "python",
   "name": "python3"
  },
  "language_info": {
   "codemirror_mode": {
    "name": "ipython",
    "version": 3
   },
   "file_extension": ".py",
   "mimetype": "text/x-python",
   "name": "python",
   "nbconvert_exporter": "python",
   "pygments_lexer": "ipython3",
   "version": "3.10.0"
  }
 },
 "nbformat": 4,
 "nbformat_minor": 2
}
