{
 "cells": [
  {
   "cell_type": "code",
   "execution_count": 22,
   "metadata": {},
   "outputs": [
    {
     "name": "stdout",
     "output_type": "stream",
     "text": [
      "Hello World!\n"
     ]
    }
   ],
   "source": [
    "print(\"Hello World!\")"
   ]
  },
  {
   "cell_type": "markdown",
   "metadata": {},
   "source": [
    "# 1. Listas\n",
    "## 1.1 Criando e acessando elementos\n",
    "Em python, uma lista é uma coleção de objetos.\n",
    "Internamente, os valores são representados por seus índices: inteiro,iniciando em zero, incrementando em 1.\n",
    "Duas formas de criação de lista, por função `list` ou par de colchetes `lista_nova = []`."
   ]
  },
  {
   "cell_type": "code",
   "execution_count": 23,
   "metadata": {},
   "outputs": [
    {
     "name": "stdout",
     "output_type": "stream",
     "text": [
      "Python\n",
      "Javascript\n",
      "True\n",
      "Web Full Stack\n",
      "[['Curso', 'Módulo 1', 'Módulo 2'], ['Data Science', 'Lógica de Programação I', 'Lógica de Programação II'], ['Web Full Stack', 'Front End Estático', 'Front End Dinâmico']]\n"
     ]
    }
   ],
   "source": [
    "lista1 = list() # uma lista vazia\n",
    "\n",
    "lista2 = [] # outra lista vazia\n",
    "\n",
    "linguagens = ['Python', 'Javascript', 'SQL'] # lista com 3 elementos\n",
    "\n",
    "dados_variados = [3.14, 1000, True, 'abacate'] # lista com dados de tipos diferentes\n",
    "\n",
    "lista_de_listas = [['Curso', 'Módulo 1', 'Módulo 2'], ['Data Science', 'Lógica de Programação I', 'Lógica de Programação II'], ['Web Full Stack', 'Front End Estático', 'Front End Dinâmico']]\n",
    "\n",
    "print(linguagens[0]) # imprime \"Python\"\n",
    "print(linguagens[1]) # imprime \"Javascript\"\n",
    "print(dados_variados[2]) # imprime True\n",
    "print(lista_de_listas[2][0]) # imprime \"Web Full Stack\"\n",
    "print(lista_de_listas)"
   ]
  },
  {
   "cell_type": "markdown",
   "metadata": {},
   "source": [
    "## 1.2 Iterando uma lista"
   ]
  },
  {
   "cell_type": "code",
   "execution_count": 24,
   "metadata": {},
   "outputs": [
    {
     "name": "stdout",
     "output_type": "stream",
     "text": [
      "3.14\n",
      "1000\n",
      "True\n",
      "abacate\n"
     ]
    }
   ],
   "source": [
    "for indice in range(4):\n",
    "    print(dados_variados[indice])"
   ]
  },
  {
   "cell_type": "code",
   "execution_count": 25,
   "metadata": {},
   "outputs": [
    {
     "name": "stdout",
     "output_type": "stream",
     "text": [
      "3.14\n",
      "1000\n",
      "True\n",
      "abacate\n"
     ]
    }
   ],
   "source": [
    "# forma pythonica\n",
    "for elemento in dados_variados:\n",
    "    print(elemento)"
   ]
  },
  {
   "cell_type": "code",
   "execution_count": 26,
   "metadata": {},
   "outputs": [
    {
     "name": "stdout",
     "output_type": "stream",
     "text": [
      "Curso\n",
      "Módulo 1\n",
      "Módulo 2\n",
      "Data Science\n",
      "Lógica de Programação I\n",
      "Lógica de Programação II\n",
      "Web Full Stack\n",
      "Front End Estático\n",
      "Front End Dinâmico\n"
     ]
    }
   ],
   "source": [
    "# Com listas aninhadas\n",
    "for linha in lista_de_listas:\n",
    "    for elemento in linha:\n",
    "        print(elemento)"
   ]
  },
  {
   "cell_type": "markdown",
   "metadata": {},
   "source": [
    "## 1.3 _Slicing_ de listas\n",
    "Informar índice inicial e final. Índice final \"exclusivo\" (intervalo aberto)."
   ]
  },
  {
   "cell_type": "code",
   "execution_count": 27,
   "metadata": {},
   "outputs": [
    {
     "name": "stdout",
     "output_type": "stream",
     "text": [
      "algumas_frutas: ['carambola', 'damasco', 'embaúba']\n",
      "sem indice inicial: ['abacate', 'banana', 'carambola']\n",
      "sem indice final: ['embaúba', 'framboesa', 'goiaba']\n"
     ]
    }
   ],
   "source": [
    "frutas = ['abacate', 'banana', 'carambola', 'damasco', 'embaúba', 'framboesa', 'goiaba']\n",
    "\n",
    "algumas_frutas = frutas[2:5]\n",
    "\n",
    "print(f\"algumas_frutas: {algumas_frutas}\")\n",
    "print(f\"sem indice inicial: {frutas[:3]}\")\n",
    "print(f\"sem indice final: {frutas[4:]}\")"
   ]
  },
  {
   "cell_type": "markdown",
   "metadata": {},
   "source": [
    "Acessando índices negativos é possível percorrer a lista do fim para o começo.\n",
    "-1 acessa o último elemento.\n",
    "-2 acessa o penúltimo, e assim sucessivamente."
   ]
  },
  {
   "cell_type": "code",
   "execution_count": 28,
   "metadata": {},
   "outputs": [
    {
     "name": "stdout",
     "output_type": "stream",
     "text": [
      "['embaúba', 'framboesa', 'goiaba']\n"
     ]
    }
   ],
   "source": [
    "print(frutas[-3:])"
   ]
  },
  {
   "cell_type": "markdown",
   "metadata": {},
   "source": [
    "Atribuir uma lista à outra **não** copia a lista.\n",
    "\n",
    "Fazer isso irá referenciar a **mesma** lista na memória. Assim, operações na lista \"nova\" afetarão a lista \"antiga\".\n",
    "\n",
    "Uma forma fácil de **copiar** uma lista é usando o _slice_."
   ]
  },
  {
   "cell_type": "code",
   "execution_count": 29,
   "metadata": {},
   "outputs": [
    {
     "name": "stdout",
     "output_type": "stream",
     "text": [
      "frutas: ['abacate', 'banana', 'carambola', 'damasco', 'embaúba', 'framboesa', 'goiaba', 'manga']\n",
      "copia_frutas: ['abacate', 'banana', 'carambola', 'damasco', 'embaúba', 'framboesa', 'goiaba', 'manga']\n",
      "copia_correta_frutas: ['abacate', 'banana', 'carambola', 'damasco', 'embaúba', 'framboesa', 'goiaba']\n"
     ]
    }
   ],
   "source": [
    "copia_frutas = frutas\n",
    "copia_correta_frutas = frutas[:]\n",
    "copia_frutas.append('manga')\n",
    "\n",
    "print(f\"frutas: {frutas}\")\n",
    "print(f\"copia_frutas: {copia_frutas}\")\n",
    "print(f\"copia_correta_frutas: {copia_correta_frutas}\")\n",
    "\n",
    "# Caso executar isso mostre a copia_correta_frutas com os mesmos elementos que a lista \"frutas\", limpe todos os outputs e rode novamente o notebook."
   ]
  },
  {
   "cell_type": "markdown",
   "metadata": {},
   "source": [
    "Também é possível saltar valores no slice, adicionando um terceiro elemento na declaração."
   ]
  },
  {
   "cell_type": "code",
   "execution_count": 30,
   "metadata": {},
   "outputs": [
    {
     "name": "stdout",
     "output_type": "stream",
     "text": [
      "['banana', 'damasco', 'framboesa', 'manga']\n"
     ]
    }
   ],
   "source": [
    "impares = frutas[1::2]\n",
    "print(impares)"
   ]
  },
  {
   "cell_type": "code",
   "execution_count": 31,
   "metadata": {},
   "outputs": [
    {
     "name": "stdout",
     "output_type": "stream",
     "text": [
      "['manga', 'goiaba', 'framboesa', 'embaúba', 'damasco', 'carambola', 'banana', 'abacate']\n"
     ]
    }
   ],
   "source": [
    "# Ou invertendo a lista com saltos negativos\n",
    "\n",
    "frutas_invertida = frutas[-1::-1]\n",
    "print(frutas_invertida)"
   ]
  },
  {
   "cell_type": "markdown",
   "metadata": {},
   "source": [
    "## 1.4 Concatenando Listas\n",
    "Em Python, é possível \"somar\" duas listas com o operador `+`, resultando em uma união das duas listas (em ordem de aparição)."
   ]
  },
  {
   "cell_type": "code",
   "execution_count": 32,
   "metadata": {},
   "outputs": [
    {
     "name": "stdout",
     "output_type": "stream",
     "text": [
      "['Python', 'SQL', 'R', 'HTML', 'CSS', 'Javascript']\n"
     ]
    }
   ],
   "source": [
    "ds = ['Python', 'SQL', 'R']\n",
    "web = ['HTML', 'CSS', 'Javascript']\n",
    "\n",
    "linguagens = ds + web\n",
    "print(linguagens)"
   ]
  }
 ],
 "metadata": {
  "kernelspec": {
   "display_name": "Python 3",
   "language": "python",
   "name": "python3"
  },
  "language_info": {
   "codemirror_mode": {
    "name": "ipython",
    "version": 3
   },
   "file_extension": ".py",
   "mimetype": "text/x-python",
   "name": "python",
   "nbconvert_exporter": "python",
   "pygments_lexer": "ipython3",
   "version": "3.10.0"
  }
 },
 "nbformat": 4,
 "nbformat_minor": 2
}
