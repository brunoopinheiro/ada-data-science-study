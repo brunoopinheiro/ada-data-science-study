{
 "cells": [
  {
   "cell_type": "code",
   "execution_count": 16,
   "metadata": {},
   "outputs": [
    {
     "name": "stdout",
     "output_type": "stream",
     "text": [
      "Hello World!\n"
     ]
    }
   ],
   "source": [
    "print(\"Hello World!\")"
   ]
  },
  {
   "cell_type": "markdown",
   "metadata": {},
   "source": [
    "# 1. Listas\n",
    "## 1.1 Criando e acessando elementos\n",
    "Em python, uma lista é uma coleção de objetos.\n",
    "Internamente, os valores são representados por seus índices: inteiro,iniciando em zero, incrementando em 1.\n",
    "Duas formas de criação de lista, por função `list` ou par de colchetes `lista_nova = []`."
   ]
  },
  {
   "cell_type": "code",
   "execution_count": 17,
   "metadata": {},
   "outputs": [
    {
     "name": "stdout",
     "output_type": "stream",
     "text": [
      "Python\n",
      "Javascript\n",
      "True\n",
      "Web Full Stack\n",
      "[['Curso', 'Módulo 1', 'Módulo 2'], ['Data Science', 'Lógica de Programação I', 'Lógica de Programação II'], ['Web Full Stack', 'Front End Estático', 'Front End Dinâmico']]\n"
     ]
    }
   ],
   "source": [
    "lista1 = list() # uma lista vazia\n",
    "\n",
    "lista2 = [] # outra lista vazia\n",
    "\n",
    "linguagens = ['Python', 'Javascript', 'SQL'] # lista com 3 elementos\n",
    "\n",
    "dados_variados = [3.14, 1000, True, 'abacate'] # lista com dados de tipos diferentes\n",
    "\n",
    "lista_de_listas = [['Curso', 'Módulo 1', 'Módulo 2'], ['Data Science', 'Lógica de Programação I', 'Lógica de Programação II'], ['Web Full Stack', 'Front End Estático', 'Front End Dinâmico']]\n",
    "\n",
    "print(linguagens[0]) # imprime \"Python\"\n",
    "print(linguagens[1]) # imprime \"Javascript\"\n",
    "print(dados_variados[2]) # imprime True\n",
    "print(lista_de_listas[2][0]) # imprime \"Web Full Stack\"\n",
    "print(lista_de_listas)"
   ]
  },
  {
   "cell_type": "markdown",
   "metadata": {},
   "source": [
    "## 1.2 Iterando uma lista"
   ]
  },
  {
   "cell_type": "code",
   "execution_count": 18,
   "metadata": {},
   "outputs": [
    {
     "name": "stdout",
     "output_type": "stream",
     "text": [
      "3.14\n",
      "1000\n",
      "True\n",
      "abacate\n"
     ]
    }
   ],
   "source": [
    "for indice in range(4):\n",
    "    print(dados_variados[indice])"
   ]
  },
  {
   "cell_type": "code",
   "execution_count": 19,
   "metadata": {},
   "outputs": [
    {
     "name": "stdout",
     "output_type": "stream",
     "text": [
      "3.14\n",
      "1000\n",
      "True\n",
      "abacate\n"
     ]
    }
   ],
   "source": [
    "# forma pythonica\n",
    "for elemento in dados_variados:\n",
    "    print(elemento)"
   ]
  },
  {
   "cell_type": "code",
   "execution_count": 20,
   "metadata": {},
   "outputs": [
    {
     "name": "stdout",
     "output_type": "stream",
     "text": [
      "Curso\n",
      "Módulo 1\n",
      "Módulo 2\n",
      "Data Science\n",
      "Lógica de Programação I\n",
      "Lógica de Programação II\n",
      "Web Full Stack\n",
      "Front End Estático\n",
      "Front End Dinâmico\n"
     ]
    }
   ],
   "source": [
    "# Com listas aninhadas\n",
    "for linha in lista_de_listas:\n",
    "    for elemento in linha:\n",
    "        print(elemento)"
   ]
  },
  {
   "cell_type": "markdown",
   "metadata": {},
   "source": [
    "## 1.3 _Slicing_ de listas\n",
    "Informar índice inicial e final. Índice final \"exclusivo\" (intervalo aberto)."
   ]
  },
  {
   "cell_type": "code",
   "execution_count": 21,
   "metadata": {},
   "outputs": [
    {
     "name": "stdout",
     "output_type": "stream",
     "text": [
      "algumas_frutas: ['carambola', 'damasco', 'embaúba']\n",
      "sem indice inicial: ['abacate', 'banana', 'carambola']\n",
      "sem indice final: ['embaúba', 'framboesa', 'goiaba']\n"
     ]
    }
   ],
   "source": [
    "frutas = ['abacate', 'banana', 'carambola', 'damasco', 'embaúba', 'framboesa', 'goiaba']\n",
    "\n",
    "algumas_frutas = frutas[2:5]\n",
    "\n",
    "print(f\"algumas_frutas: {algumas_frutas}\")\n",
    "print(f\"sem indice inicial: {frutas[:3]}\")\n",
    "print(f\"sem indice final: {frutas[4:]}\")"
   ]
  },
  {
   "cell_type": "markdown",
   "metadata": {},
   "source": [
    "Acessando índices negativos é possível percorrer a lista do fim para o começo.\n",
    "-1 acessa o último elemento.\n",
    "-2 acessa o penúltimo, e assim sucessivamente."
   ]
  },
  {
   "cell_type": "code",
   "execution_count": 22,
   "metadata": {},
   "outputs": [
    {
     "name": "stdout",
     "output_type": "stream",
     "text": [
      "['embaúba', 'framboesa', 'goiaba']\n"
     ]
    }
   ],
   "source": [
    "print(frutas[-3:])"
   ]
  },
  {
   "cell_type": "markdown",
   "metadata": {},
   "source": [
    "Atribuir uma lista à outra **não** copia a lista.\n",
    "\n",
    "Fazer isso irá referenciar a **mesma** lista na memória. Assim, operações na lista \"nova\" afetarão a lista \"antiga\".\n",
    "\n",
    "Uma forma fácil de **copiar** uma lista é usando o _slice_."
   ]
  },
  {
   "cell_type": "code",
   "execution_count": 23,
   "metadata": {},
   "outputs": [
    {
     "name": "stdout",
     "output_type": "stream",
     "text": [
      "frutas: ['abacate', 'banana', 'carambola', 'damasco', 'embaúba', 'framboesa', 'goiaba', 'manga']\n",
      "copia_frutas: ['abacate', 'banana', 'carambola', 'damasco', 'embaúba', 'framboesa', 'goiaba', 'manga']\n",
      "copia_correta_frutas: ['abacate', 'banana', 'carambola', 'damasco', 'embaúba', 'framboesa', 'goiaba']\n"
     ]
    }
   ],
   "source": [
    "copia_frutas = frutas\n",
    "copia_correta_frutas = frutas[:]\n",
    "copia_frutas.append('manga')\n",
    "\n",
    "print(f\"frutas: {frutas}\")\n",
    "print(f\"copia_frutas: {copia_frutas}\")\n",
    "print(f\"copia_correta_frutas: {copia_correta_frutas}\")\n",
    "\n",
    "# Caso executar isso mostre a copia_correta_frutas com os mesmos elementos que a lista \"frutas\", limpe todos os outputs e rode novamente o notebook."
   ]
  },
  {
   "cell_type": "markdown",
   "metadata": {},
   "source": [
    "Também é possível saltar valores no slice, adicionando um terceiro elemento na declaração."
   ]
  },
  {
   "cell_type": "code",
   "execution_count": 24,
   "metadata": {},
   "outputs": [
    {
     "name": "stdout",
     "output_type": "stream",
     "text": [
      "['banana', 'damasco', 'framboesa', 'manga']\n"
     ]
    }
   ],
   "source": [
    "impares = frutas[1::2]\n",
    "print(impares)"
   ]
  },
  {
   "cell_type": "code",
   "execution_count": 25,
   "metadata": {},
   "outputs": [
    {
     "name": "stdout",
     "output_type": "stream",
     "text": [
      "['manga', 'goiaba', 'framboesa', 'embaúba', 'damasco', 'carambola', 'banana', 'abacate']\n"
     ]
    }
   ],
   "source": [
    "# Ou invertendo a lista com saltos negativos\n",
    "\n",
    "frutas_invertida = frutas[-1::-1]\n",
    "print(frutas_invertida)"
   ]
  },
  {
   "cell_type": "markdown",
   "metadata": {},
   "source": [
    "## 1.4 Concatenando Listas\n",
    "Em Python, é possível \"somar\" duas listas com o operador `+`, resultando em uma união das duas listas (em ordem de aparição)."
   ]
  },
  {
   "cell_type": "code",
   "execution_count": 26,
   "metadata": {},
   "outputs": [
    {
     "name": "stdout",
     "output_type": "stream",
     "text": [
      "['Python', 'SQL', 'R', 'HTML', 'CSS', 'Javascript']\n"
     ]
    }
   ],
   "source": [
    "ds = ['Python', 'SQL', 'R']\n",
    "web = ['HTML', 'CSS', 'Javascript']\n",
    "\n",
    "linguagens = ds + web\n",
    "print(linguagens)"
   ]
  },
  {
   "cell_type": "markdown",
   "metadata": {},
   "source": [
    "# 2. Tuplas\n",
    "## 2.1 Operações Básicas\n",
    "\n",
    "Tuplas também são coleções de objetos.\n",
    "Podem ser declaradas entre parenteses (recomendado) ou apenas separando por vírgula."
   ]
  },
  {
   "cell_type": "code",
   "execution_count": 27,
   "metadata": {},
   "outputs": [
    {
     "name": "stdout",
     "output_type": "stream",
     "text": [
      "Python\n",
      "Javascript\n",
      "True\n",
      "Data Science\n"
     ]
    }
   ],
   "source": [
    "tupla1 = tuple() # tupla vazia\n",
    "tupla2 = () # outra tupla vazia\n",
    "\n",
    "tupla_linguagens = ('Python', 'Javascript', 'SQL') # tupla com 3 elementos\n",
    "\n",
    "tupla_dados_variados = 3.14, 1000, True, 'abacate' # tupla declarada sem parenteses\n",
    "\n",
    "tupla_de_tuplas = (('Curso', 'Módulo 1', 'Módulo 2'), ('Data Science', 'Lógica de Programação 1', 'Lógica de Programação 2'))\n",
    "\n",
    "print(tupla_linguagens[0])\n",
    "print(tupla_linguagens[1])\n",
    "print(tupla_dados_variados[2])\n",
    "print(tupla_de_tuplas[1][0])"
   ]
  },
  {
   "cell_type": "code",
   "execution_count": 28,
   "metadata": {},
   "outputs": [
    {
     "name": "stdout",
     "output_type": "stream",
     "text": [
      "['abacate', 'banana', 'carambola', 'damasco', 'embaúba', 'framboesa', 'goiaba', 'manga']\n",
      "['abacate', 'banana', 'carambola', 'damasco', 'embaúba', 'framboesa', 'goiaba', 'manga']\n"
     ]
    }
   ],
   "source": [
    "# convertendo lista para tupla\n",
    "\n",
    "tupla_frutas = tuple(frutas)\n",
    "print(frutas)\n",
    "\n",
    "nova_lista_frutas = list(tupla_frutas)\n",
    "print(nova_lista_frutas)"
   ]
  },
  {
   "cell_type": "markdown",
   "metadata": {},
   "source": [
    "- Listas são **mutáveis**\n",
    "- Tuplas são **imutáveis**"
   ]
  },
  {
   "cell_type": "code",
   "execution_count": 29,
   "metadata": {},
   "outputs": [
    {
     "name": "stdout",
     "output_type": "stream",
     "text": [
      "[0, 1, 2, 3, 4]\n",
      "[10, 1, 2, 3, 4]\n"
     ]
    }
   ],
   "source": [
    "# funciona\n",
    "lista_mutavel = [0, 1, 2, 3, 4]\n",
    "print(lista_mutavel)\n",
    "\n",
    "lista_mutavel[0] = 10\n",
    "print(lista_mutavel)"
   ]
  },
  {
   "cell_type": "code",
   "execution_count": 30,
   "metadata": {},
   "outputs": [
    {
     "name": "stdout",
     "output_type": "stream",
     "text": [
      "(0, 1, 2, 3, 4)\n"
     ]
    },
    {
     "ename": "TypeError",
     "evalue": "'tuple' object does not support item assignment",
     "output_type": "error",
     "traceback": [
      "\u001b[1;31m---------------------------------------------------------------------------\u001b[0m",
      "\u001b[1;31mTypeError\u001b[0m                                 Traceback (most recent call last)",
      "Cell \u001b[1;32mIn[30], line 5\u001b[0m\n\u001b[0;32m      2\u001b[0m tupla_imutavel \u001b[38;5;241m=\u001b[39m (\u001b[38;5;241m0\u001b[39m, \u001b[38;5;241m1\u001b[39m, \u001b[38;5;241m2\u001b[39m, \u001b[38;5;241m3\u001b[39m, \u001b[38;5;241m4\u001b[39m)\n\u001b[0;32m      3\u001b[0m \u001b[38;5;28mprint\u001b[39m(tupla_imutavel)\n\u001b[1;32m----> 5\u001b[0m \u001b[43mtupla_imutavel\u001b[49m\u001b[43m[\u001b[49m\u001b[38;5;241;43m0\u001b[39;49m\u001b[43m]\u001b[49m \u001b[38;5;241m=\u001b[39m \u001b[38;5;241m10\u001b[39m\n\u001b[0;32m      6\u001b[0m \u001b[38;5;28mprint\u001b[39m(tupla_imutavel)\n",
      "\u001b[1;31mTypeError\u001b[0m: 'tuple' object does not support item assignment"
     ]
    }
   ],
   "source": [
    "# não funciona\n",
    "tupla_imutavel = (0, 1, 2, 3, 4)\n",
    "print(tupla_imutavel)\n",
    "\n",
    "tupla_imutavel[0] = 10\n",
    "print(tupla_imutavel)"
   ]
  },
  {
   "cell_type": "markdown",
   "metadata": {},
   "source": [
    "- Além de ser uma das poucas situações em python onde é possível impedir alterações em dados, tuplas oferecem um desempenho (computacional) de busca e leitura superior às listas."
   ]
  },
  {
   "cell_type": "markdown",
   "metadata": {},
   "source": [
    "## 2.3 Desempacotamento de Tuplas\n",
    "É possível facilmente atribuir os valores de uma tupla para um conjunto de variáveis individuais."
   ]
  },
  {
   "cell_type": "code",
   "execution_count": null,
   "metadata": {},
   "outputs": [
    {
     "name": "stdout",
     "output_type": "stream",
     "text": [
      "Lista\n",
      "Tupla\n",
      "Dicionario\n"
     ]
    }
   ],
   "source": [
    "minha_tupla = ('Lista', 'Tupla', 'Dicionario')\n",
    "\n",
    "x, y, z = minha_tupla\n",
    "\n",
    "print(x)\n",
    "print(y)\n",
    "print(z)"
   ]
  },
  {
   "cell_type": "code",
   "execution_count": null,
   "metadata": {},
   "outputs": [
    {
     "name": "stdout",
     "output_type": "stream",
     "text": [
      "Python\n",
      "['Javascript', 'HTML', 'CSS', 'R']\n"
     ]
    }
   ],
   "source": [
    "# O operador `*` atribui o restante\n",
    "\n",
    "muitas_linguagens = ('Python', 'Javascript', 'HTML', 'CSS', 'R')\n",
    "\n",
    "primeira, *resto = muitas_linguagens\n",
    "print(primeira)\n",
    "print(resto)"
   ]
  },
  {
   "cell_type": "code",
   "execution_count": null,
   "metadata": {},
   "outputs": [
    {
     "name": "stdout",
     "output_type": "stream",
     "text": [
      "['Python', 'Javascript', 'HTML', 'CSS']\n",
      "R\n"
     ]
    }
   ],
   "source": [
    "*resto, ultima = muitas_linguagens\n",
    "print(resto)\n",
    "print(ultima)"
   ]
  },
  {
   "cell_type": "code",
   "execution_count": null,
   "metadata": {},
   "outputs": [
    {
     "name": "stdout",
     "output_type": "stream",
     "text": [
      "Python\n",
      "['Javascript', 'HTML', 'CSS']\n",
      "R\n"
     ]
    }
   ],
   "source": [
    "primeira, *meio, ultima = muitas_linguagens\n",
    "\n",
    "print(primeira)\n",
    "print(meio)\n",
    "print(ultima)"
   ]
  },
  {
   "cell_type": "code",
   "execution_count": null,
   "metadata": {},
   "outputs": [
    {
     "name": "stdout",
     "output_type": "stream",
     "text": [
      "10\n",
      "20\n"
     ]
    }
   ],
   "source": [
    "# truques de tuplas: atribuições rápidas\n",
    "x, y = 10, 20\n",
    "\n",
    "print(x)\n",
    "print(y)"
   ]
  },
  {
   "cell_type": "code",
   "execution_count": null,
   "metadata": {},
   "outputs": [
    {
     "name": "stdout",
     "output_type": "stream",
     "text": [
      "20\n",
      "10\n"
     ]
    }
   ],
   "source": [
    "# truques de tuplas: inverter valor de variáveis\n",
    "x, y = y, x\n",
    "\n",
    "print(x)\n",
    "print(y)"
   ]
  },
  {
   "cell_type": "markdown",
   "metadata": {},
   "source": [
    "# 3. Facilidades Para Iteração\n",
    "\n",
    "## 3.1 Enumerate\n",
    "Monta uma estrutura em tupla, a partir de uma lista, no formato `(índice, valor)`.\n",
    "Aplicando isso ao desempacotamento de tupla, é possível acessar o índice de forma mais legível e _pythonica_."
   ]
  },
  {
   "cell_type": "code",
   "execution_count": 31,
   "metadata": {},
   "outputs": [
    {
     "name": "stdout",
     "output_type": "stream",
     "text": [
      "ABACATE\n",
      "banana\n",
      "CARAMBOLA\n",
      "damasco\n",
      "EMBAÚBA\n",
      "framboesa\n",
      "GOIABA\n",
      "manga\n"
     ]
    }
   ],
   "source": [
    "for indice, valor in enumerate(frutas):\n",
    "    if indice % 2 == 0:\n",
    "        print(valor.upper())\n",
    "    else:\n",
    "        print(valor.lower())"
   ]
  },
  {
   "cell_type": "markdown",
   "metadata": {},
   "source": [
    "## 3.2 Zip\n",
    "Permite percorrer duas listas simultaneamente, acessando os elementos que compartilham o mesmo índice.\n",
    "É possível, assim como no `enumerate`, utilizar desempacotamento de tupla para acessar ambos os valores."
   ]
  },
  {
   "cell_type": "code",
   "execution_count": 32,
   "metadata": {},
   "outputs": [
    {
     "name": "stdout",
     "output_type": "stream",
     "text": [
      "Aluno Paul: 10\n",
      "Aluno John: 9\n",
      "Aluno George: 7\n",
      "Aluno Ringo: 6\n"
     ]
    }
   ],
   "source": [
    "alunos = ['Paul', 'John', 'George', 'Ringo']\n",
    "notas = [10, 9, 7, 6]\n",
    "\n",
    "for aluno, nota in zip(alunos, notas):\n",
    "    print(f\"Aluno {aluno}: {nota}\")"
   ]
  }
 ],
 "metadata": {
  "kernelspec": {
   "display_name": "Python 3",
   "language": "python",
   "name": "python3"
  },
  "language_info": {
   "codemirror_mode": {
    "name": "ipython",
    "version": 3
   },
   "file_extension": ".py",
   "mimetype": "text/x-python",
   "name": "python",
   "nbconvert_exporter": "python",
   "pygments_lexer": "ipython3",
   "version": "3.12.0"
  }
 },
 "nbformat": 4,
 "nbformat_minor": 2
}
