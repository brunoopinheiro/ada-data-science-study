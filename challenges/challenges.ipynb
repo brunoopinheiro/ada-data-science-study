{
 "cells": [
  {
   "cell_type": "code",
   "execution_count": 34,
   "metadata": {},
   "outputs": [],
   "source": [
    "input_list = [['Curso'], 12, \"casa\", 3,14, [3,9,-10], [['Santos', 'Fluminense',[10]], True]]"
   ]
  },
  {
   "cell_type": "code",
   "execution_count": 35,
   "metadata": {},
   "outputs": [],
   "source": [
    "def flatten(list_input, i=0, flattened_list=[]):\n",
    "    if i >= len(list_input):\n",
    "        return flattened_list\n",
    "\n",
    "    print(f\"List Input = {list_input}\")\n",
    "    print(f\"I = {i}\")\n",
    "    print(f\"Element = {list_input[i]}\")\n",
    "    print(f\"Flattened = {flattened_list}\")\n",
    "    print(\"-----------\")\n",
    "    if not isinstance(list_input[i], list) and not isinstance(list_input[i], tuple):\n",
    "        flattened_list.append(list_input[i])\n",
    "        return flatten(list_input, i + 1, flattened_list)\n",
    "    else:\n",
    "        flattened = flatten(list_input[i], 0)\n",
    "        return flatten(list_input, i + 1, flattened)"
   ]
  },
  {
   "cell_type": "code",
   "execution_count": 36,
   "metadata": {},
   "outputs": [
    {
     "name": "stdout",
     "output_type": "stream",
     "text": [
      "List Input = [['Curso'], 12, 'casa', 3, 14, [3, 9, -10], [['Santos', 'Fluminense', [10]], True]]\n",
      "I = 0\n",
      "Element = ['Curso']\n",
      "Flattened = []\n",
      "-----------\n",
      "List Input = ['Curso']\n",
      "I = 0\n",
      "Element = Curso\n",
      "Flattened = []\n",
      "-----------\n",
      "List Input = [['Curso'], 12, 'casa', 3, 14, [3, 9, -10], [['Santos', 'Fluminense', [10]], True]]\n",
      "I = 1\n",
      "Element = 12\n",
      "Flattened = ['Curso']\n",
      "-----------\n",
      "List Input = [['Curso'], 12, 'casa', 3, 14, [3, 9, -10], [['Santos', 'Fluminense', [10]], True]]\n",
      "I = 2\n",
      "Element = casa\n",
      "Flattened = ['Curso', 12]\n",
      "-----------\n",
      "List Input = [['Curso'], 12, 'casa', 3, 14, [3, 9, -10], [['Santos', 'Fluminense', [10]], True]]\n",
      "I = 3\n",
      "Element = 3\n",
      "Flattened = ['Curso', 12, 'casa']\n",
      "-----------\n",
      "List Input = [['Curso'], 12, 'casa', 3, 14, [3, 9, -10], [['Santos', 'Fluminense', [10]], True]]\n",
      "I = 4\n",
      "Element = 14\n",
      "Flattened = ['Curso', 12, 'casa', 3]\n",
      "-----------\n",
      "List Input = [['Curso'], 12, 'casa', 3, 14, [3, 9, -10], [['Santos', 'Fluminense', [10]], True]]\n",
      "I = 5\n",
      "Element = [3, 9, -10]\n",
      "Flattened = ['Curso', 12, 'casa', 3, 14]\n",
      "-----------\n",
      "List Input = [3, 9, -10]\n",
      "I = 0\n",
      "Element = 3\n",
      "Flattened = ['Curso', 12, 'casa', 3, 14]\n",
      "-----------\n",
      "List Input = [3, 9, -10]\n",
      "I = 1\n",
      "Element = 9\n",
      "Flattened = ['Curso', 12, 'casa', 3, 14, 3]\n",
      "-----------\n",
      "List Input = [3, 9, -10]\n",
      "I = 2\n",
      "Element = -10\n",
      "Flattened = ['Curso', 12, 'casa', 3, 14, 3, 9]\n",
      "-----------\n",
      "List Input = [['Curso'], 12, 'casa', 3, 14, [3, 9, -10], [['Santos', 'Fluminense', [10]], True]]\n",
      "I = 6\n",
      "Element = [['Santos', 'Fluminense', [10]], True]\n",
      "Flattened = ['Curso', 12, 'casa', 3, 14, 3, 9, -10]\n",
      "-----------\n",
      "List Input = [['Santos', 'Fluminense', [10]], True]\n",
      "I = 0\n",
      "Element = ['Santos', 'Fluminense', [10]]\n",
      "Flattened = ['Curso', 12, 'casa', 3, 14, 3, 9, -10]\n",
      "-----------\n",
      "List Input = ['Santos', 'Fluminense', [10]]\n",
      "I = 0\n",
      "Element = Santos\n",
      "Flattened = ['Curso', 12, 'casa', 3, 14, 3, 9, -10]\n",
      "-----------\n",
      "List Input = ['Santos', 'Fluminense', [10]]\n",
      "I = 1\n",
      "Element = Fluminense\n",
      "Flattened = ['Curso', 12, 'casa', 3, 14, 3, 9, -10, 'Santos']\n",
      "-----------\n",
      "List Input = ['Santos', 'Fluminense', [10]]\n",
      "I = 2\n",
      "Element = [10]\n",
      "Flattened = ['Curso', 12, 'casa', 3, 14, 3, 9, -10, 'Santos', 'Fluminense']\n",
      "-----------\n",
      "List Input = [10]\n",
      "I = 0\n",
      "Element = 10\n",
      "Flattened = ['Curso', 12, 'casa', 3, 14, 3, 9, -10, 'Santos', 'Fluminense']\n",
      "-----------\n",
      "List Input = [['Santos', 'Fluminense', [10]], True]\n",
      "I = 1\n",
      "Element = True\n",
      "Flattened = ['Curso', 12, 'casa', 3, 14, 3, 9, -10, 'Santos', 'Fluminense', 10]\n",
      "-----------\n"
     ]
    }
   ],
   "source": [
    "response = flatten(input_list)"
   ]
  },
  {
   "cell_type": "code",
   "execution_count": 37,
   "metadata": {},
   "outputs": [
    {
     "name": "stdout",
     "output_type": "stream",
     "text": [
      "['Curso', 12, 'casa', 3, 14, 3, 9, -10, 'Santos', 'Fluminense', 10, True]\n"
     ]
    }
   ],
   "source": [
    "print(response)"
   ]
  }
 ],
 "metadata": {
  "kernelspec": {
   "display_name": "Python 3",
   "language": "python",
   "name": "python3"
  },
  "language_info": {
   "codemirror_mode": {
    "name": "ipython",
    "version": 3
   },
   "file_extension": ".py",
   "mimetype": "text/x-python",
   "name": "python",
   "nbconvert_exporter": "python",
   "pygments_lexer": "ipython3",
   "version": "3.12.0"
  }
 },
 "nbformat": 4,
 "nbformat_minor": 2
}
