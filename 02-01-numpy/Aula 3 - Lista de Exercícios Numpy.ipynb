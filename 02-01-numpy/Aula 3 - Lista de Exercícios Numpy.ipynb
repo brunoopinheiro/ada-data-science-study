{
 "cells": [
  {
   "cell_type": "markdown",
   "id": "03019251",
   "metadata": {},
   "source": [
    "# Lista 1 - NumPy\n",
    "\n",
    "## Exercícios\n",
    "\n",
    "Para a resolução dos exercícios abaixo, utilize todas as ferramentas e métodos do NumPy aprendidos em aula e existe algumas outras métodos que podem ser úteis na documentação [_NumPy Documentation_](https://numpy.org/doc/). Durante a correção, não será considerado exercícios que não utilizar a ferramenta (muitos deles da pra responder apenas com Python, mas não é esse o intuito da lista).\n",
    "\n",
    "__Funcionamento dos Exercícios:__ todos os exercícios são do estilo onde será preciso criar uma função para resolver a proposta do enunciado. Será avaliado apenas a função, mas sugiro que crie casos de testes para avaliar se a função está operando corretamente.\n",
    "\n",
    "__Avaliação e Entrega:__ São 5 exercícios que valem 10 pontos, e a entrega vai ser na forma de um notebook através da tarefa criada no LMS.\n",
    "\n",
    "__Data Limite para Entrega:__ Próxima aula 19/02\n",
    "\n",
    "\n",
    "### 1) Restaurantes Mais Próximos\n",
    "\n",
    "Perto da casa de João existem vários restaurantes que entregam comida e João deseja fazer um pedido, mas ele tem um compromisso marcado e não pode esperar muito tempo. Então João quer saber qual é o restaurante mais próximo da residencia dele utilizando da distância Euclidiana, cuja a fórmula é dado pela equação a seguir:\n",
    "\n",
    "<img align=\"center\" src=\"https://i.upmath.me/svg/%20d(A%2C%20B)%20%3D%20%5Csqrt%7B(x_%7BA%2C%201%7D%20-%20x_%7BB%2C%201%7D)%5E%7B2%7D%20%2B%20(x_%7BA%2C%202%7D%20-%20x_%7BB%2C%202%7D)%5E%7B2%7D%20%2B%20...%20%2B%20(x_%7BA%2C%20n%7D%20-%20x_%7BB%2C%20n%7D)%5E%7B2%7D%7D\" alt=\" d(A, B) = \\sqrt{(x_{A, 1} - x_{B, 1})^{2} + (x_{A, 2} - x_{B, 2})^{2} + ... + (x_{A, n} - x_{B, n})^{2}}\" />\n",
    "\n",
    "Desenvolva uma função chamada `restaurante_mais_proximo` que irá receber como parâmetros respectivamente __uma lista de coordenadas da casa do João__ e __uma lista com 4 listas com as coordenadas dos restaurantes a verificar__ e o retorno da função deve ser __o número referente ao restaurante mais próximo__. Importante ressaltar que o número do restaurante começa pelo 1 e que em caso de empate, deve-se indicar __o primeiro restaurante a apresentar a menor distância__."
   ]
  },
  {
   "cell_type": "code",
   "execution_count": 1,
   "id": "0c6cfde0",
   "metadata": {},
   "outputs": [],
   "source": [
    "import numpy as np"
   ]
  },
  {
   "cell_type": "code",
   "execution_count": 2,
   "id": "cc8787b4",
   "metadata": {},
   "outputs": [],
   "source": [
    "# exemplo de entrada\n",
    "# lembrando que pode ter n coordenadas\n",
    "restaurantes = [[1, 3, 5], [2, 4, 0], [3, 3, 3], [1, 6, 6]]\n",
    "joao = [0, 1, 2]"
   ]
  },
  {
   "cell_type": "code",
   "execution_count": 3,
   "id": "3784fe0d",
   "metadata": {},
   "outputs": [],
   "source": [
    "def calc_distancia_euclidiana(arr_a, arr_b):\n",
    "    somatorio = np.sum((arr_a - arr_b) ** 2)\n",
    "    dist = np.sqrt(somatorio)\n",
    "    return dist\n",
    "\n",
    "\n",
    "def restaurantes_mais_proximos(casa, restaurantes):\n",
    "    arr_casa = np.array(casa)\n",
    "    arr_restaurantes = [np.array(restaurante) for restaurante in restaurantes]\n",
    "    dist = [calc_distancia_euclidiana(casa, rest) for rest in arr_restaurantes]\n",
    "    return np.argmin(dist) + 1\n",
    "    pass"
   ]
  },
  {
   "cell_type": "code",
   "execution_count": 4,
   "id": "a4230cce",
   "metadata": {},
   "outputs": [
    {
     "name": "stdout",
     "output_type": "stream",
     "text": [
      "1\n",
      "2\n"
     ]
    }
   ],
   "source": [
    "# Exemplo 1\n",
    "restaurantes = [[1, 3, 5], [2, 4, 0], [3, 3, 3], [1, 6, 6]]\n",
    "joao = [0, 1, 2]\n",
    "print(restaurantes_mais_proximos(joao, restaurantes))\n",
    "# Resultado = 1\n",
    "\n",
    "# Exemplo 2\n",
    "restaurantes = [\n",
    "    [0.86617615, 0.60111501, 0.70807258, 0.02058449, 0.96990985, 0.83244264, 0.21233911],\n",
    "    [0.18182497, 0.18340451, 0.30424224, 0.52475643, 0.43194502, 0.29122914, 0.61185289],\n",
    "    [0.13949386, 0.29214465, 0.36636184, 0.45606998, 0.78517596, 0.19967378, 0.51423444],\n",
    "    [0.59241457, 0.04645041, 0.60754485, 0.17052412, 0.06505159, 0.94888554, 0.96563203],\n",
    "]\n",
    "joao = [0.37454012, 0.95071431, 0.73199394, 0.59865848, 0.15601864, 0.15599452, 0.05808361]\n",
    "print(restaurantes_mais_proximos(joao, restaurantes))\n",
    "# Resultado = 2\n"
   ]
  },
  {
   "cell_type": "markdown",
   "id": "c4acd507",
   "metadata": {},
   "source": [
    "## 2) Ordenando pelo MMC\n",
    "\n",
    "O Mínimo Múltiplo Comum (MMC) de dois ou mais números é definido pelo múltiplo comum corresponde a todos os números observados. Por exemplo o MMC entre 6 e 10 é o 30 devido aos número 2, 3 e 5. O objetivo deste exercício, além de calcular o MMC será ordenar a lista utilizando o MMC. Portanto desenvolva a função `ordenar_mmc` onde como entrada irá receber uma lista de números e um número a parte de referência. A função deve calcular O MMC de cada um dos números da lista em relação ao de referência e em seguida ordenar os números originais de acordo com o MMC do menor valor para o maior, como o exemplo a seguir:\n",
    "\n",
    "```python\n",
    "# lista de entrada\n",
    "lista = [12, 8, 10]\n",
    "\n",
    "# numero de referência\n",
    "ref = 4\n",
    "\n",
    "# utilizando a função\n",
    "print(ordenar_mmc(lista, ref))\n",
    "\n",
    "# Resultado da função, pois o mmcs = [12, 8, 20] \n",
    "[8, 12, 10]\n",
    "```"
   ]
  },
  {
   "cell_type": "code",
   "execution_count": 5,
   "id": "092c27f2",
   "metadata": {},
   "outputs": [],
   "source": [
    "def calc_mmc(a, b):\n",
    "    \"\"\"\n",
    "    mmc(a,b) = (a * b / mdc(a, b))\n",
    "    \"\"\"\n",
    "    return (a * b) / np.gcd(a, b)\n",
    "\n",
    "\n",
    "def ordenar_mmc(lista, ref):\n",
    "    lista_mmc = [calc_mmc(n, ref) for n in lista]\n",
    "    return sorted(lista_mmc)"
   ]
  },
  {
   "cell_type": "code",
   "execution_count": 6,
   "id": "4a02fe11",
   "metadata": {},
   "outputs": [
    {
     "name": "stdout",
     "output_type": "stream",
     "text": [
      "[20.0, 25.0, 50.0, 60.0, 70.0, 100.0, 115.0]\n",
      "[8.0, 16.0, 56.0, 72.0, 88.0, 88.0, 168.0, 648.0]\n"
     ]
    }
   ],
   "source": [
    "#Exemplos\n",
    "# Exemplo 1\n",
    "lista = [12, 20, 14, 25, 100, 50, 23]\n",
    "ref = 5\n",
    "\n",
    "print(ordenar_mmc(lista, ref))\n",
    "# Resposta\n",
    "# [20, 25, 50, 12, 14, 100, 23]\n",
    "\n",
    "\n",
    "# Exemplo 2\n",
    "lista = [7, 16, 22, 81, 9, 42, 11, 2]\n",
    "ref = 8\n",
    "\n",
    "print(ordenar_mmc(lista, ref))\n",
    "# Resposta\n",
    "# [2, 16, 7, 9, 22, 11, 42, 81]"
   ]
  },
  {
   "cell_type": "markdown",
   "id": "76d5dd27",
   "metadata": {},
   "source": [
    "### 3) Normalização ou Z-Score\n",
    "\n",
    "A normalização (também conhecido como Z-Score) é uma ferramenta muito importante da estatística onde para um conjunto de dados, calcula-se quais serão os respectivos valores se aquele conjunto de dados seguir uma dstribuição normal. O objetivo deste exercício será desenvolver a função `z_score`, onde dado uma lista de entrada com um conjunto de dados quaisquer, devolve a lista com os respectivos Z-Scores dos dados, seguindo a função $z = \\frac{x - \\mu}{\\sigma}$, onde $\\mu$ é a média do conjunto de dados e $\\sigma$ é o desvio padrão do mesmo (arredonde os valores para 4 casas decimais)."
   ]
  },
  {
   "cell_type": "code",
   "execution_count": null,
   "id": "c358b5aa",
   "metadata": {},
   "outputs": [],
   "source": [
    "lista = [4, 6, 7, 8, 9]\n",
    "\n",
    "# primeiro passo = calcular a media da lista\n",
    "# segundo passo = calcular o desvio padrao\n",
    "# terceiro passo calcular o z = (x- media)/desvio padrao\n",
    "# por fim arredonda com o np.round(numero, 4)"
   ]
  },
  {
   "cell_type": "code",
   "execution_count": 7,
   "id": "32940c8a",
   "metadata": {},
   "outputs": [],
   "source": [
    "def z_score(data):\n",
    "    media_lista = np.mean(data)\n",
    "    desvio_pad = np.std(data)\n",
    "    z_arr = np.array([np.round(((x - media_lista)/desvio_pad), 4) for x in data])\n",
    "    return z_arr"
   ]
  },
  {
   "cell_type": "code",
   "execution_count": 8,
   "id": "7427e5d9",
   "metadata": {},
   "outputs": [
    {
     "name": "stdout",
     "output_type": "stream",
     "text": [
      "[-1.6275 -0.465   0.1162  0.6975  1.2787]\n",
      "[ 0.1997 -0.8994 -0.7461 -0.577   2.5671 -0.4766 -0.5189  0.205   0.8656\n",
      " -0.6193]\n"
     ]
    }
   ],
   "source": [
    "# Exemplos\n",
    "# Exemplo 1\n",
    "lista = [4, 6, 7, 8, 9]\n",
    "print(z_score(lista))\n",
    "# z_score = [-1.6275, -0.465, 0.1162, 0.6975, 1.2787]\n",
    "\n",
    "# Exemplo 2\n",
    "lista = [33.1, 12.3, 15.2, 18.4, 77.9, 20.3, 19.5, 33.2, 45.7, 17.6]\n",
    "print(z_score(lista))\n",
    "# z_score = [0.1997, -0.8994, -0.7461, -0.577, 2.5671, -0.4766, -0.5189, 0.205, 0.8656, -0.6193]"
   ]
  },
  {
   "cell_type": "markdown",
   "id": "8a0e5aa1",
   "metadata": {},
   "source": [
    "### 4) Escalonamento MinMaxScaler\n",
    "\n",
    "De forma análoga à normalização, o MinMaxScaler altera a escala a ser utilizada em um conjunto de dados, onde busca-se os valores máximo e mínimo de um conjunto de dados para depois transformar em uma escala que varia entre esses valores. O objetivo deste exercício será desenvolver uma função chamada `minmaxscaler` que irá receber como entrada um conjunto de dados e de saída será uma lista com os valores na nova escala seguindo a função $y = \\frac{x - min}{max - min}$ (arredonde para 4 casas decimais)."
   ]
  },
  {
   "cell_type": "code",
   "execution_count": null,
   "id": "bcd35013",
   "metadata": {},
   "outputs": [],
   "source": [
    "# primeiro passo = calcula o min e max\n",
    "# segundo passo = calcula o y = (x-min)/(max-min)\n",
    "# por fim arredonda com 4 casas"
   ]
  },
  {
   "cell_type": "code",
   "execution_count": 13,
   "id": "7e05a653",
   "metadata": {},
   "outputs": [],
   "source": [
    "def minmaxscaler(data):\n",
    "    data_min = np.min(data)\n",
    "    data_max = np.max(data)\n",
    "    scale = [np.round(((x - data_min)/(data_max - data_min)), 4) for x in data]\n",
    "    return scale"
   ]
  },
  {
   "cell_type": "code",
   "execution_count": 14,
   "id": "f7b95838",
   "metadata": {},
   "outputs": [
    {
     "name": "stdout",
     "output_type": "stream",
     "text": [
      "[0.0, 0.4, 0.6, 0.8, 1.0]\n",
      "[0.3171, 0.0, 0.0442, 0.093, 1.0, 0.122, 0.1098, 0.3186, 0.5091, 0.0808]\n"
     ]
    }
   ],
   "source": [
    "# Exemplos\n",
    "# Exemplo 1\n",
    "lista = [4, 6, 7, 8, 9]\n",
    "print(minmaxscaler(lista))\n",
    "# y_score = [0.0, 0.4, 0.6, 0.8, 1.0]\n",
    "\n",
    "# Exemplo 2\n",
    "lista = [33.1, 12.3, 15.2, 18.4, 77.9, 20.3, 19.5, 33.2, 45.7, 17.6]\n",
    "print(minmaxscaler(lista))\n",
    "# y_score = [0.317, 0.0, 0.044, 0.093, 1.0, 0.122, 0.11, 0.319, 0.509, 0.081]"
   ]
  },
  {
   "cell_type": "markdown",
   "id": "d162de14",
   "metadata": {},
   "source": [
    "### 5) Matching entre Vetores\n",
    "\n",
    "No contexto de Machine Learning, um processo bem comum é de comparar respostas entre vetores para entender o quão acertivo foi um determinado modelo. Dado um contexto, desenvolva a função `vector_matching` que verifica posição a posição destes vetores, que valores de zeros e uns foram acertados. Para esta função têm-se como entrada __dois vetores de dimensões iguais__ preenchidos com 0 ou 1 e a saída da função será o percentual de acerto entre os vetores (arredonde o percentual para 1 casa decimal)."
   ]
  },
  {
   "cell_type": "code",
   "execution_count": null,
   "id": "500170b0",
   "metadata": {},
   "outputs": [],
   "source": [
    "def vector_matching(v1, v2):\n",
    "    pass"
   ]
  },
  {
   "cell_type": "code",
   "execution_count": null,
   "id": "d7a23f36",
   "metadata": {},
   "outputs": [],
   "source": [
    "#Exemplos\n",
    "#Exemplo 1\n",
    "v1 = [0, 0, 0, 1, 1, 1, 1, 0]\n",
    "v2 = [1, 0, 0, 1, 1, 0, 0, 1]\n",
    "# Resposta = 50.0%\n",
    "\n",
    "#Exemplo 2\n",
    "v1 = [1, 1, 0, 0, 1, 1, 1, 1, 1, 1, 0, 1, 1, 0, 0, 0, 1]\n",
    "v2 = [1, 1, 1, 1, 1, 0, 0, 0, 1, 1, 0, 0, 0, 1, 0, 0, 0]\n",
    "# Resposta = 47.1%"
   ]
  }
 ],
 "metadata": {
  "kernelspec": {
   "display_name": "Python 3 (ipykernel)",
   "language": "python",
   "name": "python3"
  },
  "language_info": {
   "codemirror_mode": {
    "name": "ipython",
    "version": 3
   },
   "file_extension": ".py",
   "mimetype": "text/x-python",
   "name": "python",
   "nbconvert_exporter": "python",
   "pygments_lexer": "ipython3",
   "version": "3.12.0"
  }
 },
 "nbformat": 4,
 "nbformat_minor": 5
}
