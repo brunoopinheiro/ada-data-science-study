{
 "cells": [
  {
   "cell_type": "markdown",
   "id": "ba2a74d6",
   "metadata": {},
   "source": [
    "## Lista 2 - Exercícios Pandas\n",
    "\n",
    "_Descrição dos Exercícios:_ Serão 5 exercícios onde o objetivo será conseguir os dados de datasets conhecidos do Kaggle e responder os tópicos propostos para cada um deles."
   ]
  },
  {
   "cell_type": "code",
   "execution_count": 12,
   "id": "b8ad0a66",
   "metadata": {},
   "outputs": [],
   "source": [
    "# Importando o pandas\n",
    "import pandas as pd"
   ]
  },
  {
   "cell_type": "code",
   "execution_count": 26,
   "id": "dfab9e06",
   "metadata": {},
   "outputs": [],
   "source": [
    "# Caminhos relativos dos arquivos dos datasets\n",
    "\n",
    "# https://www.kaggle.com/datasets/dgomonov/new-york-city-airbnb-open-data\n",
    "airbnb_file_path = \"./datasets/AB_NYC_2019.csv\"\n",
    "\n",
    "# https://www.kaggle.com/competitions/house-prices-advanced-regression-techniques/data\n",
    "house_prices_file_path = \"./datasets/house_prices_train.csv\"\n",
    "\n",
    "# https://www.kaggle.com/datasets/olistbr/brazilian-ecommerce\n",
    "# https://www.kaggle.com/datasets/rush4ratio/video-game-sales-with-ratings\n",
    "# https://www.kaggle.com/datasets/harshitshankhdhar/imdb-dataset-of-top-1000-movies-and-tv-shows\n",
    "# https://www.kaggle.com/datasets/ashutoshdevpura/imdb-top-10000-movies-updated-august-2023\n"
   ]
  },
  {
   "cell_type": "markdown",
   "id": "46b3e838",
   "metadata": {},
   "source": [
    "__Exercício 1:__ Análise de Dados do Airbnb em Nova York\n",
    "__Dataset:__  Disponível no Kaggle como _New York City Airbnb Open Data_.\n",
    "\n",
    "__Questões:__\n",
    "\n",
    "__1-__ Exiba as primeiras 5 linhas do dataset para entender a estrutura dos dados.\n",
    "\n",
    "__2-__ Calcule o preço médio de aluguel por bairro (neighbourhood_group).\n",
    "\n",
    "__3-__ Encontre o número de opções de hospedagem disponíveis em cada tipo de quarto (room_type).\n",
    "\n",
    "__4-__ Determine os 10 bairros com a maior quantidade de hospedagens listadas."
   ]
  },
  {
   "cell_type": "code",
   "execution_count": 22,
   "id": "c9561576",
   "metadata": {},
   "outputs": [
    {
     "data": {
      "text/html": [
       "<div>\n",
       "<style scoped>\n",
       "    .dataframe tbody tr th:only-of-type {\n",
       "        vertical-align: middle;\n",
       "    }\n",
       "\n",
       "    .dataframe tbody tr th {\n",
       "        vertical-align: top;\n",
       "    }\n",
       "\n",
       "    .dataframe thead th {\n",
       "        text-align: right;\n",
       "    }\n",
       "</style>\n",
       "<table border=\"1\" class=\"dataframe\">\n",
       "  <thead>\n",
       "    <tr style=\"text-align: right;\">\n",
       "      <th></th>\n",
       "      <th>id</th>\n",
       "      <th>name</th>\n",
       "      <th>host_id</th>\n",
       "      <th>host_name</th>\n",
       "      <th>neighbourhood_group</th>\n",
       "      <th>neighbourhood</th>\n",
       "      <th>latitude</th>\n",
       "      <th>longitude</th>\n",
       "      <th>room_type</th>\n",
       "      <th>price</th>\n",
       "      <th>minimum_nights</th>\n",
       "      <th>number_of_reviews</th>\n",
       "      <th>last_review</th>\n",
       "      <th>reviews_per_month</th>\n",
       "      <th>calculated_host_listings_count</th>\n",
       "      <th>availability_365</th>\n",
       "    </tr>\n",
       "  </thead>\n",
       "  <tbody>\n",
       "    <tr>\n",
       "      <th>0</th>\n",
       "      <td>2539</td>\n",
       "      <td>Clean &amp; quiet apt home by the park</td>\n",
       "      <td>2787</td>\n",
       "      <td>John</td>\n",
       "      <td>Brooklyn</td>\n",
       "      <td>Kensington</td>\n",
       "      <td>40.64749</td>\n",
       "      <td>-73.97237</td>\n",
       "      <td>Private room</td>\n",
       "      <td>149</td>\n",
       "      <td>1</td>\n",
       "      <td>9</td>\n",
       "      <td>2018-10-19</td>\n",
       "      <td>0.21</td>\n",
       "      <td>6</td>\n",
       "      <td>365</td>\n",
       "    </tr>\n",
       "    <tr>\n",
       "      <th>1</th>\n",
       "      <td>2595</td>\n",
       "      <td>Skylit Midtown Castle</td>\n",
       "      <td>2845</td>\n",
       "      <td>Jennifer</td>\n",
       "      <td>Manhattan</td>\n",
       "      <td>Midtown</td>\n",
       "      <td>40.75362</td>\n",
       "      <td>-73.98377</td>\n",
       "      <td>Entire home/apt</td>\n",
       "      <td>225</td>\n",
       "      <td>1</td>\n",
       "      <td>45</td>\n",
       "      <td>2019-05-21</td>\n",
       "      <td>0.38</td>\n",
       "      <td>2</td>\n",
       "      <td>355</td>\n",
       "    </tr>\n",
       "    <tr>\n",
       "      <th>2</th>\n",
       "      <td>3647</td>\n",
       "      <td>THE VILLAGE OF HARLEM....NEW YORK !</td>\n",
       "      <td>4632</td>\n",
       "      <td>Elisabeth</td>\n",
       "      <td>Manhattan</td>\n",
       "      <td>Harlem</td>\n",
       "      <td>40.80902</td>\n",
       "      <td>-73.94190</td>\n",
       "      <td>Private room</td>\n",
       "      <td>150</td>\n",
       "      <td>3</td>\n",
       "      <td>0</td>\n",
       "      <td>NaN</td>\n",
       "      <td>NaN</td>\n",
       "      <td>1</td>\n",
       "      <td>365</td>\n",
       "    </tr>\n",
       "    <tr>\n",
       "      <th>3</th>\n",
       "      <td>3831</td>\n",
       "      <td>Cozy Entire Floor of Brownstone</td>\n",
       "      <td>4869</td>\n",
       "      <td>LisaRoxanne</td>\n",
       "      <td>Brooklyn</td>\n",
       "      <td>Clinton Hill</td>\n",
       "      <td>40.68514</td>\n",
       "      <td>-73.95976</td>\n",
       "      <td>Entire home/apt</td>\n",
       "      <td>89</td>\n",
       "      <td>1</td>\n",
       "      <td>270</td>\n",
       "      <td>2019-07-05</td>\n",
       "      <td>4.64</td>\n",
       "      <td>1</td>\n",
       "      <td>194</td>\n",
       "    </tr>\n",
       "    <tr>\n",
       "      <th>4</th>\n",
       "      <td>5022</td>\n",
       "      <td>Entire Apt: Spacious Studio/Loft by central park</td>\n",
       "      <td>7192</td>\n",
       "      <td>Laura</td>\n",
       "      <td>Manhattan</td>\n",
       "      <td>East Harlem</td>\n",
       "      <td>40.79851</td>\n",
       "      <td>-73.94399</td>\n",
       "      <td>Entire home/apt</td>\n",
       "      <td>80</td>\n",
       "      <td>10</td>\n",
       "      <td>9</td>\n",
       "      <td>2018-11-19</td>\n",
       "      <td>0.10</td>\n",
       "      <td>1</td>\n",
       "      <td>0</td>\n",
       "    </tr>\n",
       "  </tbody>\n",
       "</table>\n",
       "</div>"
      ],
      "text/plain": [
       "     id                                              name  host_id  \\\n",
       "0  2539                Clean & quiet apt home by the park     2787   \n",
       "1  2595                             Skylit Midtown Castle     2845   \n",
       "2  3647               THE VILLAGE OF HARLEM....NEW YORK !     4632   \n",
       "3  3831                   Cozy Entire Floor of Brownstone     4869   \n",
       "4  5022  Entire Apt: Spacious Studio/Loft by central park     7192   \n",
       "\n",
       "     host_name neighbourhood_group neighbourhood  latitude  longitude  \\\n",
       "0         John            Brooklyn    Kensington  40.64749  -73.97237   \n",
       "1     Jennifer           Manhattan       Midtown  40.75362  -73.98377   \n",
       "2    Elisabeth           Manhattan        Harlem  40.80902  -73.94190   \n",
       "3  LisaRoxanne            Brooklyn  Clinton Hill  40.68514  -73.95976   \n",
       "4        Laura           Manhattan   East Harlem  40.79851  -73.94399   \n",
       "\n",
       "         room_type  price  minimum_nights  number_of_reviews last_review  \\\n",
       "0     Private room    149               1                  9  2018-10-19   \n",
       "1  Entire home/apt    225               1                 45  2019-05-21   \n",
       "2     Private room    150               3                  0         NaN   \n",
       "3  Entire home/apt     89               1                270  2019-07-05   \n",
       "4  Entire home/apt     80              10                  9  2018-11-19   \n",
       "\n",
       "   reviews_per_month  calculated_host_listings_count  availability_365  \n",
       "0               0.21                               6               365  \n",
       "1               0.38                               2               355  \n",
       "2                NaN                               1               365  \n",
       "3               4.64                               1               194  \n",
       "4               0.10                               1                 0  "
      ]
     },
     "execution_count": 22,
     "metadata": {},
     "output_type": "execute_result"
    }
   ],
   "source": [
    "# importando o dataset\n",
    "ds_airbnb = pd.read_csv(airbnb_file_path)\n",
    "\n",
    "\n",
    "# __1-__ Exiba as primeiras 5 linhas do dataset para entender a estrutura dos dados.\n",
    "(ds_airbnb.head())"
   ]
  },
  {
   "cell_type": "code",
   "execution_count": 15,
   "id": "56d04be3",
   "metadata": {},
   "outputs": [
    {
     "data": {
      "text/html": [
       "<div>\n",
       "<style scoped>\n",
       "    .dataframe tbody tr th:only-of-type {\n",
       "        vertical-align: middle;\n",
       "    }\n",
       "\n",
       "    .dataframe tbody tr th {\n",
       "        vertical-align: top;\n",
       "    }\n",
       "\n",
       "    .dataframe thead th {\n",
       "        text-align: right;\n",
       "    }\n",
       "</style>\n",
       "<table border=\"1\" class=\"dataframe\">\n",
       "  <thead>\n",
       "    <tr style=\"text-align: right;\">\n",
       "      <th></th>\n",
       "      <th>price</th>\n",
       "    </tr>\n",
       "    <tr>\n",
       "      <th>neighbourhood_group</th>\n",
       "      <th></th>\n",
       "    </tr>\n",
       "  </thead>\n",
       "  <tbody>\n",
       "    <tr>\n",
       "      <th>Bronx</th>\n",
       "      <td>87.496792</td>\n",
       "    </tr>\n",
       "    <tr>\n",
       "      <th>Brooklyn</th>\n",
       "      <td>124.383207</td>\n",
       "    </tr>\n",
       "    <tr>\n",
       "      <th>Manhattan</th>\n",
       "      <td>196.875814</td>\n",
       "    </tr>\n",
       "    <tr>\n",
       "      <th>Queens</th>\n",
       "      <td>99.517649</td>\n",
       "    </tr>\n",
       "    <tr>\n",
       "      <th>Staten Island</th>\n",
       "      <td>114.812332</td>\n",
       "    </tr>\n",
       "  </tbody>\n",
       "</table>\n",
       "</div>"
      ],
      "text/plain": [
       "                          price\n",
       "neighbourhood_group            \n",
       "Bronx                 87.496792\n",
       "Brooklyn             124.383207\n",
       "Manhattan            196.875814\n",
       "Queens                99.517649\n",
       "Staten Island        114.812332"
      ]
     },
     "execution_count": 15,
     "metadata": {},
     "output_type": "execute_result"
    }
   ],
   "source": [
    "# __2-__ Calcule o preço médio de aluguel por bairro (neighbourhood_group).\n",
    "selected_columns = ['neighbourhood_group', 'price']\n",
    "subset = ds_airbnb[selected_columns]\n",
    "neighbourhood_groups_list = subset.groupby('neighbourhood_group').mean()\n",
    "(neighbourhood_groups_list)"
   ]
  },
  {
   "cell_type": "code",
   "execution_count": 16,
   "id": "2c23d440",
   "metadata": {},
   "outputs": [
    {
     "data": {
      "text/html": [
       "<div>\n",
       "<style scoped>\n",
       "    .dataframe tbody tr th:only-of-type {\n",
       "        vertical-align: middle;\n",
       "    }\n",
       "\n",
       "    .dataframe tbody tr th {\n",
       "        vertical-align: top;\n",
       "    }\n",
       "\n",
       "    .dataframe thead th {\n",
       "        text-align: right;\n",
       "    }\n",
       "</style>\n",
       "<table border=\"1\" class=\"dataframe\">\n",
       "  <thead>\n",
       "    <tr style=\"text-align: right;\">\n",
       "      <th></th>\n",
       "      <th>id</th>\n",
       "    </tr>\n",
       "    <tr>\n",
       "      <th>room_type</th>\n",
       "      <th></th>\n",
       "    </tr>\n",
       "  </thead>\n",
       "  <tbody>\n",
       "    <tr>\n",
       "      <th>Entire home/apt</th>\n",
       "      <td>25409</td>\n",
       "    </tr>\n",
       "    <tr>\n",
       "      <th>Private room</th>\n",
       "      <td>22326</td>\n",
       "    </tr>\n",
       "    <tr>\n",
       "      <th>Shared room</th>\n",
       "      <td>1160</td>\n",
       "    </tr>\n",
       "  </tbody>\n",
       "</table>\n",
       "</div>"
      ],
      "text/plain": [
       "                    id\n",
       "room_type             \n",
       "Entire home/apt  25409\n",
       "Private room     22326\n",
       "Shared room       1160"
      ]
     },
     "execution_count": 16,
     "metadata": {},
     "output_type": "execute_result"
    }
   ],
   "source": [
    "# __3-__ Encontre o número de opções de hospedagem disponíveis em cada tipo de quarto (room_type).\n",
    "selected_columns = ['room_type', 'id']\n",
    "subset = ds_airbnb[selected_columns]\n",
    "room_types = subset.groupby('room_type').count()\n",
    "\n",
    "(room_types)"
   ]
  },
  {
   "cell_type": "code",
   "execution_count": 31,
   "id": "f42a3285",
   "metadata": {},
   "outputs": [
    {
     "data": {
      "text/html": [
       "<div>\n",
       "<style scoped>\n",
       "    .dataframe tbody tr th:only-of-type {\n",
       "        vertical-align: middle;\n",
       "    }\n",
       "\n",
       "    .dataframe tbody tr th {\n",
       "        vertical-align: top;\n",
       "    }\n",
       "\n",
       "    .dataframe thead th {\n",
       "        text-align: right;\n",
       "    }\n",
       "</style>\n",
       "<table border=\"1\" class=\"dataframe\">\n",
       "  <thead>\n",
       "    <tr style=\"text-align: right;\">\n",
       "      <th></th>\n",
       "      <th>calculated_host_listings_count</th>\n",
       "    </tr>\n",
       "    <tr>\n",
       "      <th>neighbourhood</th>\n",
       "      <th></th>\n",
       "    </tr>\n",
       "  </thead>\n",
       "  <tbody>\n",
       "    <tr>\n",
       "      <th>Financial District</th>\n",
       "      <td>85454</td>\n",
       "    </tr>\n",
       "    <tr>\n",
       "      <th>Murray Hill</th>\n",
       "      <td>26125</td>\n",
       "    </tr>\n",
       "    <tr>\n",
       "      <th>Hell's Kitchen</th>\n",
       "      <td>25169</td>\n",
       "    </tr>\n",
       "    <tr>\n",
       "      <th>Midtown</th>\n",
       "      <td>25019</td>\n",
       "    </tr>\n",
       "    <tr>\n",
       "      <th>Theater District</th>\n",
       "      <td>18704</td>\n",
       "    </tr>\n",
       "    <tr>\n",
       "      <th>Chelsea</th>\n",
       "      <td>18098</td>\n",
       "    </tr>\n",
       "    <tr>\n",
       "      <th>Upper East Side</th>\n",
       "      <td>16282</td>\n",
       "    </tr>\n",
       "    <tr>\n",
       "      <th>Upper West Side</th>\n",
       "      <td>13360</td>\n",
       "    </tr>\n",
       "    <tr>\n",
       "      <th>Bedford-Stuyvesant</th>\n",
       "      <td>9688</td>\n",
       "    </tr>\n",
       "    <tr>\n",
       "      <th>Tribeca</th>\n",
       "      <td>7606</td>\n",
       "    </tr>\n",
       "  </tbody>\n",
       "</table>\n",
       "</div>"
      ],
      "text/plain": [
       "                    calculated_host_listings_count\n",
       "neighbourhood                                     \n",
       "Financial District                           85454\n",
       "Murray Hill                                  26125\n",
       "Hell's Kitchen                               25169\n",
       "Midtown                                      25019\n",
       "Theater District                             18704\n",
       "Chelsea                                      18098\n",
       "Upper East Side                              16282\n",
       "Upper West Side                              13360\n",
       "Bedford-Stuyvesant                            9688\n",
       "Tribeca                                       7606"
      ]
     },
     "execution_count": 31,
     "metadata": {},
     "output_type": "execute_result"
    }
   ],
   "source": [
    "# __4-__ Determine os 10 bairros com a maior quantidade de hospedagens listadas.\n",
    "selected_columns = ['neighbourhood', 'calculated_host_listings_count']\n",
    "subset = ds_airbnb[selected_columns]\n",
    "neighbourhoods = subset.groupby('neighbourhood').sum().sort_values(by='calculated_host_listings_count', ascending=False)\n",
    "(neighbourhoods.head(10))"
   ]
  },
  {
   "cell_type": "markdown",
   "id": "9213d3a2",
   "metadata": {},
   "source": [
    "__Exercício 2:__ Explorando Dados de Vendas de Imóveis\n",
    "    \n",
    "__Dataset:__ Disponível no Kaggle como _House Prices: Advanced Regression Techniques._\n",
    "\n",
    "__Questões:__\n",
    "\n",
    "__1-__ Exiba o número total de linhas e colunas no DataFrame.\n",
    "\n",
    "__2-__ Encontre o preço médio dos imóveis.\n",
    "\n",
    "__3-__ Liste as 5 áreas de lote (LotArea) mais grandes.\n",
    "\n",
    "__4-__ Determine quantos imóveis possuem mais de 2 banheiros (FullBath).\n"
   ]
  },
  {
   "cell_type": "code",
   "execution_count": 27,
   "id": "b651f92d",
   "metadata": {},
   "outputs": [
    {
     "name": "stdout",
     "output_type": "stream",
     "text": [
      "1460 x 81\n"
     ]
    }
   ],
   "source": [
    "# importando o dataset\n",
    "ds_house_prices = pd.read_csv(house_prices_file_path)\n",
    "\n",
    "# __1-__ Exiba o número total de linhas e colunas no DataFrame.\n",
    "n_rows, n_columns = ds_house_prices.shape\n",
    "print(f\"{n_rows} x {n_columns}\")"
   ]
  },
  {
   "cell_type": "code",
   "execution_count": 29,
   "id": "66a0a1b9",
   "metadata": {},
   "outputs": [
    {
     "data": {
      "text/plain": [
       "SalePrice    180921.19589\n",
       "dtype: float64"
      ]
     },
     "execution_count": 29,
     "metadata": {},
     "output_type": "execute_result"
    }
   ],
   "source": [
    "# __2-__ Encontre o preço médio dos imóveis.\n",
    "selected_columns = ['SalePrice']\n",
    "sale_prices = ds_house_prices[selected_columns]\n",
    "\n",
    "(sale_prices.mean())"
   ]
  },
  {
   "cell_type": "code",
   "execution_count": 33,
   "id": "eeed8398",
   "metadata": {},
   "outputs": [
    {
     "data": {
      "text/html": [
       "<div>\n",
       "<style scoped>\n",
       "    .dataframe tbody tr th:only-of-type {\n",
       "        vertical-align: middle;\n",
       "    }\n",
       "\n",
       "    .dataframe tbody tr th {\n",
       "        vertical-align: top;\n",
       "    }\n",
       "\n",
       "    .dataframe thead th {\n",
       "        text-align: right;\n",
       "    }\n",
       "</style>\n",
       "<table border=\"1\" class=\"dataframe\">\n",
       "  <thead>\n",
       "    <tr style=\"text-align: right;\">\n",
       "      <th></th>\n",
       "      <th>LotArea</th>\n",
       "    </tr>\n",
       "  </thead>\n",
       "  <tbody>\n",
       "    <tr>\n",
       "      <th>313</th>\n",
       "      <td>215245</td>\n",
       "    </tr>\n",
       "    <tr>\n",
       "      <th>335</th>\n",
       "      <td>164660</td>\n",
       "    </tr>\n",
       "    <tr>\n",
       "      <th>249</th>\n",
       "      <td>159000</td>\n",
       "    </tr>\n",
       "    <tr>\n",
       "      <th>706</th>\n",
       "      <td>115149</td>\n",
       "    </tr>\n",
       "    <tr>\n",
       "      <th>451</th>\n",
       "      <td>70761</td>\n",
       "    </tr>\n",
       "  </tbody>\n",
       "</table>\n",
       "</div>"
      ],
      "text/plain": [
       "     LotArea\n",
       "313   215245\n",
       "335   164660\n",
       "249   159000\n",
       "706   115149\n",
       "451    70761"
      ]
     },
     "execution_count": 33,
     "metadata": {},
     "output_type": "execute_result"
    }
   ],
   "source": [
    "# __3-__ Liste as 5 maiores áreas de lote (LotArea).\n",
    "selected_columns = ['LotArea']\n",
    "\n",
    "lot_areas = ds_house_prices[selected_columns]\n",
    "\n",
    "(lot_areas.sort_values(by='LotArea', ascending=False).head())"
   ]
  },
  {
   "cell_type": "code",
   "execution_count": 53,
   "id": "017a53db",
   "metadata": {},
   "outputs": [
    {
     "data": {
      "text/plain": [
       "FullBath    33\n",
       "dtype: int64"
      ]
     },
     "execution_count": 53,
     "metadata": {},
     "output_type": "execute_result"
    }
   ],
   "source": [
    "# __4-__ Determine quantos imóveis possuem mais de 2 banheiros (FullBath).\n",
    "selected_columns = ['FullBath']\n",
    "\n",
    "subset = (ds_house_prices[selected_columns] > 2).sum()\n",
    "(subset)"
   ]
  },
  {
   "cell_type": "markdown",
   "id": "decf8921",
   "metadata": {},
   "source": [
    "__Exercício 3:__ Análise de Dados de Compras Online\n",
    "\n",
    "__Dataset:__ Disponível no Kaggle como _Brazilian E-Commerce Public Dataset by Olist._\n",
    "\n",
    "__Questões:__\n",
    "\n",
    "__1-__ Determine quantos pedidos foram feitos em cada ano.\n",
    "\n",
    "__2-__ Calcule o tempo médio de entrega (diferença entre order_purchase_timestamp e order_delivered_customer_date).\n",
    "\n",
    "__3-__ Identifique o top 5 categorias de produtos mais vendidos.   "
   ]
  },
  {
   "cell_type": "code",
   "execution_count": null,
   "id": "49f9d68f",
   "metadata": {},
   "outputs": [],
   "source": []
  },
  {
   "cell_type": "code",
   "execution_count": null,
   "id": "db754a29",
   "metadata": {},
   "outputs": [],
   "source": []
  },
  {
   "cell_type": "code",
   "execution_count": null,
   "id": "846f6ca0",
   "metadata": {},
   "outputs": [],
   "source": []
  },
  {
   "cell_type": "markdown",
   "id": "1df429ec",
   "metadata": {},
   "source": [
    "__Exercício 4:__ Análise de Dados de Filmes do IMDb\n",
    "    \n",
    "__Dataset:__ Disponível no Kaggle como _IMDb movies extensive dataset_.\n",
    "\n",
    "__Questões:__\n",
    "\n",
    "__1-__ Exiba os títulos e anos dos 10 filmes mais recentes no dataset.\n",
    "\n",
    "__2-__ Calcule a duração média dos filmes.\n",
    "\n",
    "__3-__ Identifique o filme com a maior quantidade de votos (votes).\n",
    "\n",
    "__4-__ Determine quantos filmes possuem uma classificação (avg_vote) superior a 8."
   ]
  },
  {
   "cell_type": "code",
   "execution_count": null,
   "id": "f69a322f",
   "metadata": {},
   "outputs": [],
   "source": []
  },
  {
   "cell_type": "code",
   "execution_count": null,
   "id": "2f6dafad",
   "metadata": {},
   "outputs": [],
   "source": []
  },
  {
   "cell_type": "code",
   "execution_count": null,
   "id": "4078ea96",
   "metadata": {},
   "outputs": [],
   "source": []
  },
  {
   "cell_type": "code",
   "execution_count": null,
   "id": "f685bd0c",
   "metadata": {},
   "outputs": [],
   "source": []
  },
  {
   "cell_type": "markdown",
   "id": "12c3bc7f",
   "metadata": {},
   "source": [
    "__Exercício 5:__ Explorando Dados de Jogos de Videogame\n",
    "    \n",
    "__Dataset:__ Disponível no Kaggle como _Video Game Sales with Ratings_.\n",
    "    \n",
    "__Questões:__\n",
    "\n",
    "__1-__ Liste os 5 jogos mais vendidos globalmente (Global_Sales).\n",
    "\n",
    "__2-__ Calcule as vendas totais na América do Norte (NA_Sales).\n",
    "\n",
    "__3-__ Encontre o jogo mais vendido no Japão (JP_Sales).\n",
    "\n",
    "__4-__ Determine a média de pontuação dos críticos (Critic_Score) para os jogos da Nintendo.\n"
   ]
  },
  {
   "cell_type": "code",
   "execution_count": null,
   "id": "c1f88188",
   "metadata": {},
   "outputs": [],
   "source": []
  },
  {
   "cell_type": "code",
   "execution_count": null,
   "id": "04819c38",
   "metadata": {},
   "outputs": [],
   "source": []
  },
  {
   "cell_type": "code",
   "execution_count": null,
   "id": "474cf8b5",
   "metadata": {},
   "outputs": [],
   "source": []
  },
  {
   "cell_type": "code",
   "execution_count": null,
   "id": "1314a1c8",
   "metadata": {},
   "outputs": [],
   "source": []
  }
 ],
 "metadata": {
  "kernelspec": {
   "display_name": "Python 3 (ipykernel)",
   "language": "python",
   "name": "python3"
  },
  "language_info": {
   "codemirror_mode": {
    "name": "ipython",
    "version": 3
   },
   "file_extension": ".py",
   "mimetype": "text/x-python",
   "name": "python",
   "nbconvert_exporter": "python",
   "pygments_lexer": "ipython3",
   "version": "3.9.13"
  }
 },
 "nbformat": 4,
 "nbformat_minor": 5
}
